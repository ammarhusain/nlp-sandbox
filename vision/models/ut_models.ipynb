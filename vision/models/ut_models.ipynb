{
 "cells": [
  {
   "cell_type": "code",
   "execution_count": 2,
   "metadata": {},
   "outputs": [
    {
     "name": "stdout",
     "output_type": "stream",
     "text": [
      "The autoreload extension is already loaded. To reload it, use:\n",
      "  %reload_ext autoreload\n",
      "torch.Size([12, 10, 512, 512])\n"
     ]
    }
   ],
   "source": [
    "# Check how the padding affects the model at different stages\n",
    "%load_ext autoreload\n",
    "%autoreload 2\n",
    "from fcn import FCN32s\n",
    "import torch\n",
    "import numpy as np\n",
    "\n",
    "device = torch.device(\"cuda\" if torch.cuda.is_available() else \"cpu\")\n",
    "\n",
    "model = FCN32s(10).to(device)\n",
    "\n",
    "for i in range(10):\n",
    "  # create fake data to feed in\n",
    "  inp = torch.rand(12,3,512,512).to(device)\n",
    "  lbl = torch.rand(12,512,512).to(device)\n",
    "  out = model(inp)\n",
    "\n",
    "torch.save({\"model_state\": model.state_dict()}, \"p2.pkl\")\n",
    "print(out.shape)"
   ]
  },
  {
   "cell_type": "code",
   "execution_count": null,
   "metadata": {},
   "outputs": [],
   "source": [
    "## Check that the pretrained weight loading works\n",
    "%load_ext autoreload\n",
    "%autoreload 2\n",
    "from fcn import FCN32s\n",
    "import torch\n",
    "import numpy as np\n",
    "import torchvision.models as models\n",
    "\n",
    "model_raw = FCN32s(10, pretrained=False)\n",
    "#print(model_raw.conv_block_1[0].weight[0,:,:,:])\n",
    "\n",
    "model_pre = FCN32s(10)\n",
    "print(model_pre.conv_block_1[0].weight[0,:,:,:])\n",
    "\n",
    "\n",
    "vgg16 = models.vgg16(pretrained=True)\n",
    "print(list(vgg16.features.children())[0].weight[0,:,:,:])\n",
    "\n",
    "print(model_pre.classifier[0].weight)\n",
    "print(vgg16.classifier[0].weight)"
   ]
  },
  {
   "cell_type": "code",
   "execution_count": null,
   "metadata": {},
   "outputs": [],
   "source": [
    "%load_ext autoreload\n",
    "%autoreload 2\n",
    "from autoencoder import SmallAutoEncoder\n",
    "import torch\n",
    "import numpy as np\n",
    "\n",
    "model = SmallAutoEncoder(10)\n",
    "\n",
    "img = torch.rand(1, 1, 28, 28)\n",
    "\n",
    "out = model(img)\n",
    "\n",
    "print(out.shape)\n"
   ]
  }
 ],
 "metadata": {
  "kernelspec": {
   "display_name": "Python 3",
   "language": "python",
   "name": "python3"
  },
  "language_info": {
   "codemirror_mode": {
    "name": "ipython",
    "version": 3
   },
   "file_extension": ".py",
   "mimetype": "text/x-python",
   "name": "python",
   "nbconvert_exporter": "python",
   "pygments_lexer": "ipython3",
   "version": "3.7.7"
  }
 },
 "nbformat": 4,
 "nbformat_minor": 4
}
