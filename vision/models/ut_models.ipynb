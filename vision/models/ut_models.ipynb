{
 "cells": [
  {
   "cell_type": "code",
   "execution_count": 2,
   "metadata": {},
   "outputs": [
    {
     "name": "stdout",
     "output_type": "stream",
     "text": [
      "The autoreload extension is already loaded. To reload it, use:\n",
      "  %reload_ext autoreload\n",
      "torch.Size([12, 10, 512, 512])\n"
     ]
    }
   ],
   "source": [
    "# Check how the padding affects the model at different stages\n",
    "%load_ext autoreload\n",
    "%autoreload 2\n",
    "from fcn import FCN32s\n",
    "import torch\n",
    "import numpy as np\n",
    "\n",
    "device = torch.device(\"cuda\" if torch.cuda.is_available() else \"cpu\")\n",
    "\n",
    "model = FCN32s(10).to(device)\n",
    "\n",
    "for i in range(10):\n",
    "  # create fake data to feed in\n",
    "  inp = torch.rand(12,3,512,512).to(device)\n",
    "  lbl = torch.rand(12,512,512).to(device)\n",
    "  out = model(inp)\n",
    "\n",
    "torch.save({\"model_state\": model.state_dict()}, \"p2.pkl\")\n",
    "print(out.shape)"
   ]
  },
  {
   "cell_type": "code",
   "execution_count": null,
   "metadata": {},
   "outputs": [],
   "source": [
    "## Check that the pretrained weight loading works\n",
    "%load_ext autoreload\n",
    "%autoreload 2\n",
    "from fcn import FCN32s\n",
    "import torch\n",
    "import numpy as np\n",
    "import torchvision.models as models\n",
    "\n",
    "model_raw = FCN32s(10, pretrained=False)\n",
    "#print(model_raw.conv_block_1[0].weight[0,:,:,:])\n",
    "\n",
    "model_pre = FCN32s(10)\n",
    "print(model_pre.conv_block_1[0].weight[0,:,:,:])\n",
    "\n",
    "\n",
    "vgg16 = models.vgg16(pretrained=True)\n",
    "print(list(vgg16.features.children())[0].weight[0,:,:,:])\n",
    "\n",
    "print(model_pre.classifier[0].weight)\n",
    "print(vgg16.classifier[0].weight)"
   ]
  },
  {
   "cell_type": "code",
   "execution_count": 1,
   "metadata": {},
   "outputs": [
    {
     "ename": "TypeError",
     "evalue": "__init__() takes 1 positional argument but 2 were given",
     "output_type": "error",
     "traceback": [
      "\u001b[0;31m---------------------------------------------------------------------------\u001b[0m",
      "\u001b[0;31mTypeError\u001b[0m                                 Traceback (most recent call last)",
      "\u001b[0;32m<ipython-input-1-501c4664e6d8>\u001b[0m in \u001b[0;36m<module>\u001b[0;34m\u001b[0m\n\u001b[1;32m      5\u001b[0m \u001b[0;32mimport\u001b[0m \u001b[0mnumpy\u001b[0m \u001b[0;32mas\u001b[0m \u001b[0mnp\u001b[0m\u001b[0;34m\u001b[0m\u001b[0;34m\u001b[0m\u001b[0m\n\u001b[1;32m      6\u001b[0m \u001b[0;34m\u001b[0m\u001b[0m\n\u001b[0;32m----> 7\u001b[0;31m \u001b[0mmodel\u001b[0m \u001b[0;34m=\u001b[0m \u001b[0mSmallAutoEncoder\u001b[0m\u001b[0;34m(\u001b[0m\u001b[0;36m10\u001b[0m\u001b[0;34m)\u001b[0m\u001b[0;34m\u001b[0m\u001b[0;34m\u001b[0m\u001b[0m\n\u001b[0m\u001b[1;32m      8\u001b[0m \u001b[0;34m\u001b[0m\u001b[0m\n\u001b[1;32m      9\u001b[0m \u001b[0mimg\u001b[0m \u001b[0;34m=\u001b[0m \u001b[0mtorch\u001b[0m\u001b[0;34m.\u001b[0m\u001b[0mrand\u001b[0m\u001b[0;34m(\u001b[0m\u001b[0;36m1\u001b[0m\u001b[0;34m,\u001b[0m \u001b[0;36m1\u001b[0m\u001b[0;34m,\u001b[0m \u001b[0;36m28\u001b[0m\u001b[0;34m,\u001b[0m \u001b[0;36m28\u001b[0m\u001b[0;34m)\u001b[0m\u001b[0;34m\u001b[0m\u001b[0;34m\u001b[0m\u001b[0m\n",
      "\u001b[0;31mTypeError\u001b[0m: __init__() takes 1 positional argument but 2 were given"
     ]
    }
   ],
   "source": [
    "%load_ext autoreload\n",
    "%autoreload 2\n",
    "from autoencoder import SmallAutoEncoder\n",
    "import torch\n",
    "import numpy as np\n",
    "\n",
    "model = SmallAutoEncoder(10)\n",
    "\n",
    "img = torch.rand(1, 1, 28, 28)\n",
    "\n",
    "out = model(img)\n",
    "\n",
    "print(out.shape)\n"
   ]
  },
  {
   "cell_type": "code",
   "execution_count": 6,
   "metadata": {},
   "outputs": [
    {
     "name": "stdout",
     "output_type": "stream",
     "text": [
      "The autoreload extension is already loaded. To reload it, use:\n",
      "  %reload_ext autoreload\n",
      "lbl tensor([2])\n",
      "tensor([[0.0193]], grad_fn=<AddmmBackward>)\n",
      "tensor([[ 0.0288,  0.0703, -0.0173,  0.0009,  0.0971,  0.0394,  0.0179, -0.0180,\n",
      "         -0.0117,  0.0198]], grad_fn=<AddmmBackward>)\n",
      "lbl tensor([2])\n",
      "[(1, 5), (2, 6), (3, 7), (1, 2), (8, 6), (1, 7), (9, 3), (6, 4), (3, 8), (9, 4)]\n"
     ]
    }
   ],
   "source": [
    "%load_ext autoreload\n",
    "%autoreload 2\n",
    "from gan import ACDiscriminatorNet, ACGeneratorNet\n",
    "import torch\n",
    "import numpy as np\n",
    "\n",
    "disc = ACDiscriminatorNet()\n",
    "gen = ACGeneratorNet(100)\n",
    "\n",
    "noise = torch.rand(1, 100)\n",
    "lbl = torch.randint(10, (1,))\n",
    "print(f\"lbl {lbl}\")\n",
    "#out = gen(noise, lbl)\n",
    "\n",
    "out_1, out_2 = disc(torch.rand(1, 784))\n",
    "print(out_1)\n",
    "print(out_2)\n",
    "\n",
    "lbl1 = torch.randint(10, (10,1))\n",
    "print(f\"lbl {lbl}\")\n",
    "lbl2 = torch.randint(10, (10,1))\n",
    "f = [(l1.item(), l2.item()) for l1, l2 in zip(lbl1, lbl2)]\n",
    "\n",
    "print(f)"
   ]
  },
  {
   "cell_type": "code",
   "execution_count": 19,
   "metadata": {},
   "outputs": [
    {
     "name": "stdout",
     "output_type": "stream",
     "text": [
      "The autoreload extension is already loaded. To reload it, use:\n",
      "  %reload_ext autoreload\n",
      "torch.Size([12, 100, 1, 1])\n",
      "gen torch.Size([12, 3, 64, 64])\n",
      "disc torch.Size([12, 1, 1, 1])\n",
      "disc torch.Size([12])\n",
      "tensor([0.4972, 0.4970, 0.4969, 0.4999, 0.4962, 0.4976, 0.4982, 0.4973, 0.4986,\n",
      "        0.4974, 0.4963, 0.4988], grad_fn=<ViewBackward>)\n"
     ]
    }
   ],
   "source": [
    "%load_ext autoreload\n",
    "%autoreload 2\n",
    "from gan import DCGeneratorNet, DCDiscriminatorNet\n",
    "import torch\n",
    "import numpy as np\n",
    "\n",
    "gen = DCGeneratorNet(100)\n",
    "disc = DCDiscriminatorNet()\n",
    "\n",
    "noise = torch.rand(12, 100, 1, 1)\n",
    "print(noise.shape)\n",
    "\n",
    "o = gen(noise)\n",
    "print(f'gen {o.shape}')\n",
    "o = disc(o)\n",
    "print(f'disc {o.shape}')\n",
    "o = o.view(-1)\n",
    "print(f'disc {o.shape}')\n",
    "print(o)"
   ]
  }
 ],
 "metadata": {
  "kernelspec": {
   "display_name": "Python 3",
   "language": "python",
   "name": "python3"
  },
  "language_info": {
   "codemirror_mode": {
    "name": "ipython",
    "version": 3
   },
   "file_extension": ".py",
   "mimetype": "text/x-python",
   "name": "python",
   "nbconvert_exporter": "python",
   "pygments_lexer": "ipython3",
   "version": "3.7.7"
  }
 },
 "nbformat": 4,
 "nbformat_minor": 4
}
