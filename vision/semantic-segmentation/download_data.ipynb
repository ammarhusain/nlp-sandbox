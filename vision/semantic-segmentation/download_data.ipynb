{
 "cells": [
  {
   "cell_type": "code",
   "execution_count": 9,
   "metadata": {},
   "outputs": [
    {
     "name": "stdout",
     "output_type": "stream",
     "text": [
      "data_loader/data/images\n"
     ]
    }
   ],
   "source": [
    "#! wget http://data.csail.mit.edu/places/ADEchallenge/ADEChallengeData2016.zip -P data_loader/data/.\n",
    "#! unzip -d data_loader/data data_loader/data/ADEChallengeData2016.zip\n",
    "import os\n",
    "k = os.path.join(\"data_loader/data\", \"images\")\n",
    "print(k)"
   ]
  }
 ],
 "metadata": {
  "kernelspec": {
   "display_name": "Python 3",
   "language": "python",
   "name": "python3"
  },
  "language_info": {
   "codemirror_mode": {
    "name": "ipython",
    "version": 3
   },
   "file_extension": ".py",
   "mimetype": "text/x-python",
   "name": "python",
   "nbconvert_exporter": "python",
   "pygments_lexer": "ipython3",
   "version": "3.7.7"
  }
 },
 "nbformat": 4,
 "nbformat_minor": 4
}
