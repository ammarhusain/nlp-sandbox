{
 "cells": [
  {
   "cell_type": "code",
   "execution_count": null,
   "metadata": {},
   "outputs": [
    {
     "name": "stdout",
     "output_type": "stream",
     "text": [
      "Generating 500 images\n",
      "Generating 10 images\n",
      "Optimizer: Adam (\n",
      "Parameter Group 0\n",
      "    amsgrad: False\n",
      "    betas: (0.9, 0.999)\n",
      "    eps: 1e-08\n",
      "    lr: 0.001\n",
      "    weight_decay: 0\n",
      ")\n",
      "********  weight: tensor([ 1., 10., 10., 10., 10., 10., 10., 10., 10., 10.], device='cuda:0')\n",
      "********  weight: tensor([ 1., 10., 10., 10., 10., 10., 10., 10., 10., 10.], device='cuda:0')\n",
      "Loading checkpoint: checkpoints/fcn32s_0.pkl\n",
      "Saved epoch: 39, loss: 15.323740854859352, time: 92.98452639579773\n",
      "Epoch 40\n"
     ]
    },
    {
     "name": "stderr",
     "output_type": "stream",
     "text": [
      "63it [01:33,  1.49s/it]"
     ]
    },
    {
     "name": "stdout",
     "output_type": "stream",
     "text": [
      "Epoch Loss: 14.441147327423096\n"
     ]
    },
    {
     "name": "stderr",
     "output_type": "stream",
     "text": [
      "\n",
      "1it [00:00,  1.19it/s]"
     ]
    },
    {
     "name": "stdout",
     "output_type": "stream",
     "text": [
      "pred: ['0 (1760038)', '2 (203314)', '3 (133800)']\n",
      "labels_val: ['0 (1903905)', '1 (1639)', '2 (132736)', '3 (58872)']\n"
     ]
    },
    {
     "name": "stderr",
     "output_type": "stream",
     "text": [
      "2it [00:01,  1.82it/s]"
     ]
    },
    {
     "name": "stdout",
     "output_type": "stream",
     "text": [
      "pred: ['0 (419286)', '2 (62371)', '3 (42631)']\n",
      "labels_val: ['0 (458026)', '1 (527)', '2 (41859)', '3 (23876)']\n",
      "Scores after epoch 40: {'Overall Acc: ': 0.9199081420898437, 'FreqW Acc : ': 1970094.100567627, 'Mean IoU : ': 241148.4}\n"
     ]
    },
    {
     "name": "stderr",
     "output_type": "stream",
     "text": [
      "\n"
     ]
    },
    {
     "name": "stdout",
     "output_type": "stream",
     "text": [
      "Epoch 41\n"
     ]
    },
    {
     "name": "stderr",
     "output_type": "stream",
     "text": [
      "63it [01:34,  1.49s/it]"
     ]
    },
    {
     "name": "stdout",
     "output_type": "stream",
     "text": [
      "Epoch Loss: 13.719032257795334\n"
     ]
    },
    {
     "name": "stderr",
     "output_type": "stream",
     "text": [
      "\n",
      "1it [00:00,  1.18it/s]"
     ]
    },
    {
     "name": "stdout",
     "output_type": "stream",
     "text": [
      "pred: ['0 (1784519)', '2 (194042)', '3 (118591)']\n",
      "labels_val: ['0 (1903282)', '1 (2237)', '2 (137866)', '3 (53767)']\n"
     ]
    },
    {
     "name": "stderr",
     "output_type": "stream",
     "text": [
      "2it [00:01,  1.82it/s]"
     ]
    },
    {
     "name": "stdout",
     "output_type": "stream",
     "text": [
      "pred: ['0 (411127)', '2 (65940)', '3 (47221)']\n",
      "labels_val: ['0 (450540)', '1 (537)', '2 (52695)', '3 (20516)']\n",
      "Scores after epoch 41: {'Overall Acc: ': 0.9258615493774414, 'FreqW Acc : ': 3949670.778859329, 'Mean IoU : ': 485418.1}\n"
     ]
    },
    {
     "name": "stderr",
     "output_type": "stream",
     "text": [
      "\n"
     ]
    },
    {
     "name": "stdout",
     "output_type": "stream",
     "text": [
      "Epoch 42\n"
     ]
    },
    {
     "name": "stderr",
     "output_type": "stream",
     "text": [
      "63it [01:34,  1.50s/it]"
     ]
    },
    {
     "name": "stdout",
     "output_type": "stream",
     "text": [
      "Epoch Loss: 13.329099968075752\n"
     ]
    },
    {
     "name": "stderr",
     "output_type": "stream",
     "text": [
      "\n",
      "1it [00:00,  1.19it/s]"
     ]
    },
    {
     "name": "stdout",
     "output_type": "stream",
     "text": [
      "pred: ['0 (1756799)', '2 (153091)', '3 (187262)']\n",
      "labels_val: ['0 (1921142)', '1 (1592)', '2 (104647)', '3 (69771)']\n"
     ]
    },
    {
     "name": "stderr",
     "output_type": "stream",
     "text": [
      "2it [00:01,  1.81it/s]"
     ]
    },
    {
     "name": "stdout",
     "output_type": "stream",
     "text": [
      "pred: ['0 (436478)', '2 (43410)', '3 (44400)']\n",
      "labels_val: ['0 (475721)', '1 (704)', '2 (31095)', '3 (16768)']\n",
      "Scores after epoch 42: {'Overall Acc: ': 0.9234747568766276, 'FreqW Acc : ': 5960611.617123414, 'Mean IoU : ': 726250.1}\n"
     ]
    },
    {
     "name": "stderr",
     "output_type": "stream",
     "text": [
      "\n"
     ]
    },
    {
     "name": "stdout",
     "output_type": "stream",
     "text": [
      "Epoch 43\n"
     ]
    },
    {
     "name": "stderr",
     "output_type": "stream",
     "text": [
      "63it [01:34,  1.49s/it]"
     ]
    },
    {
     "name": "stdout",
     "output_type": "stream",
     "text": [
      "Epoch Loss: 13.141244605183601\n"
     ]
    },
    {
     "name": "stderr",
     "output_type": "stream",
     "text": [
      "\n",
      "1it [00:00,  1.16it/s]"
     ]
    },
    {
     "name": "stdout",
     "output_type": "stream",
     "text": [
      "pred: ['0 (1808880)', '2 (131790)', '3 (156482)']\n",
      "labels_val: ['0 (1940995)', '1 (1819)', '2 (89042)', '3 (65296)']\n"
     ]
    },
    {
     "name": "stderr",
     "output_type": "stream",
     "text": [
      "2it [00:01,  1.80it/s]"
     ]
    },
    {
     "name": "stdout",
     "output_type": "stream",
     "text": [
      "pred: ['0 (471908)', '2 (27120)', '3 (25260)']\n",
      "labels_val: ['0 (492948)', '1 (268)', '2 (17748)', '3 (13324)']\n",
      "Scores after epoch 43: {'Overall Acc: ': 0.9260461807250977, 'FreqW Acc : ': 8074454.550830651, 'Mean IoU : ': 971029.8}\n"
     ]
    },
    {
     "name": "stderr",
     "output_type": "stream",
     "text": [
      "\n"
     ]
    },
    {
     "name": "stdout",
     "output_type": "stream",
     "text": [
      "Epoch 44\n"
     ]
    },
    {
     "name": "stderr",
     "output_type": "stream",
     "text": [
      "63it [01:33,  1.49s/it]"
     ]
    },
    {
     "name": "stdout",
     "output_type": "stream",
     "text": [
      "Epoch Loss: 13.267536997795105\n"
     ]
    },
    {
     "name": "stderr",
     "output_type": "stream",
     "text": [
      "\n",
      "1it [00:00,  1.17it/s]"
     ]
    },
    {
     "name": "stdout",
     "output_type": "stream",
     "text": [
      "pred: ['0 (1825859)', '2 (137281)', '3 (134012)']\n",
      "labels_val: ['0 (1938180)', '1 (1588)', '2 (102213)', '3 (55171)']\n"
     ]
    },
    {
     "name": "stderr",
     "output_type": "stream",
     "text": [
      "2it [00:01,  1.81it/s]"
     ]
    },
    {
     "name": "stdout",
     "output_type": "stream",
     "text": [
      "pred: ['0 (467318)', '2 (17190)', '3 (39780)']\n",
      "labels_val: ['0 (488829)', '1 (456)', '2 (13934)', '3 (21069)']\n",
      "Scores after epoch 44: {'Overall Acc: ': 0.9288525390625, 'FreqW Acc : ': 10195371.661184005, 'Mean IoU : ': 1217465.6}\n"
     ]
    },
    {
     "name": "stderr",
     "output_type": "stream",
     "text": [
      "\n"
     ]
    },
    {
     "name": "stdout",
     "output_type": "stream",
     "text": [
      "Epoch 45\n"
     ]
    },
    {
     "name": "stderr",
     "output_type": "stream",
     "text": [
      "63it [01:33,  1.49s/it]"
     ]
    },
    {
     "name": "stdout",
     "output_type": "stream",
     "text": [
      "Epoch Loss: 13.519232332706451\n"
     ]
    },
    {
     "name": "stderr",
     "output_type": "stream",
     "text": [
      "\n",
      "1it [00:00,  1.17it/s]"
     ]
    },
    {
     "name": "stdout",
     "output_type": "stream",
     "text": [
      "pred: ['0 (1792020)', '2 (149461)', '3 (155671)']\n",
      "labels_val: ['0 (1929182)', '1 (1849)', '2 (105781)', '3 (60340)']\n"
     ]
    },
    {
     "name": "stderr",
     "output_type": "stream",
     "text": [
      "2it [00:01,  1.80it/s]"
     ]
    },
    {
     "name": "stdout",
     "output_type": "stream",
     "text": [
      "pred: ['0 (448327)', '2 (45000)', '3 (30961)']\n",
      "labels_val: ['0 (484694)', '1 (368)', '2 (30054)', '3 (9172)']\n",
      "Scores after epoch 45: {'Overall Acc: ': 0.9288066864013672, 'FreqW Acc : ': 12260962.51689682, 'Mean IoU : ': 1460886.6}\n"
     ]
    },
    {
     "name": "stderr",
     "output_type": "stream",
     "text": [
      "\n"
     ]
    },
    {
     "name": "stdout",
     "output_type": "stream",
     "text": [
      "Epoch 46\n"
     ]
    },
    {
     "name": "stderr",
     "output_type": "stream",
     "text": [
      "63it [01:33,  1.49s/it]"
     ]
    },
    {
     "name": "stdout",
     "output_type": "stream",
     "text": [
      "Epoch Loss: 12.814737424254417\n"
     ]
    },
    {
     "name": "stderr",
     "output_type": "stream",
     "text": [
      "\n",
      "1it [00:00,  1.16it/s]"
     ]
    },
    {
     "name": "stdout",
     "output_type": "stream",
     "text": [
      "pred: ['0 (1784246)', '2 (173913)', '3 (138993)']\n",
      "labels_val: ['0 (1888594)', '1 (1271)', '2 (135210)', '3 (72077)']\n"
     ]
    },
    {
     "name": "stderr",
     "output_type": "stream",
     "text": [
      "2it [00:01,  1.79it/s]"
     ]
    },
    {
     "name": "stdout",
     "output_type": "stream",
     "text": [
      "pred: ['0 (476378)', '2 (16200)', '3 (31710)']\n",
      "labels_val: ['0 (497766)', '1 (527)', '2 (10322)', '3 (15673)']\n",
      "Scores after epoch 46: {'Overall Acc: ': 0.93061888558524, 'FreqW Acc : ': 14320309.586826544, 'Mean IoU : ': 1707693.1}\n"
     ]
    },
    {
     "name": "stderr",
     "output_type": "stream",
     "text": [
      "\n"
     ]
    },
    {
     "name": "stdout",
     "output_type": "stream",
     "text": [
      "Epoch 47\n"
     ]
    },
    {
     "name": "stderr",
     "output_type": "stream",
     "text": [
      "63it [01:33,  1.49s/it]"
     ]
    },
    {
     "name": "stdout",
     "output_type": "stream",
     "text": [
      "Epoch Loss: 12.492851302027702\n"
     ]
    },
    {
     "name": "stderr",
     "output_type": "stream",
     "text": [
      "\n",
      "1it [00:00,  1.19it/s]"
     ]
    },
    {
     "name": "stdout",
     "output_type": "stream",
     "text": [
      "pred: ['0 (1788359)', '2 (143761)', '3 (165032)']\n",
      "labels_val: ['0 (1931133)', '1 (1894)', '2 (95001)', '3 (69124)']\n"
     ]
    },
    {
     "name": "stderr",
     "output_type": "stream",
     "text": [
      "2it [00:01,  1.82it/s]"
     ]
    },
    {
     "name": "stdout",
     "output_type": "stream",
     "text": [
      "pred: ['0 (445387)', '2 (46381)', '3 (32520)']\n",
      "labels_val: ['0 (482625)', '1 (249)', '2 (31242)', '3 (10172)']\n",
      "Scores after epoch 47: {'Overall Acc: ': 0.9297134399414062, 'FreqW Acc : ': 16378950.493991993, 'Mean IoU : ': 1949750.4}\n"
     ]
    },
    {
     "name": "stderr",
     "output_type": "stream",
     "text": [
      "\n"
     ]
    },
    {
     "name": "stdout",
     "output_type": "stream",
     "text": [
      "Epoch 48\n"
     ]
    },
    {
     "name": "stderr",
     "output_type": "stream",
     "text": [
      "36it [00:54,  1.48s/it]"
     ]
    }
   ],
   "source": [
    "%load_ext autoreload\n",
    "%autoreload 2\n",
    "\n",
    "import os\n",
    "import yaml\n",
    "import time\n",
    "import torch\n",
    "import random\n",
    "import numpy as np\n",
    "from tqdm import tqdm\n",
    "\n",
    "from torch.utils import data\n",
    "\n",
    "from tensorboardX import SummaryWriter\n",
    "\n",
    "import data_loader\n",
    "import models\n",
    "from optimizer import get_optimizer\n",
    "from loss.cross_entropy_2d import CrossEntropy2d\n",
    "from utils.metrics import MetricsComp, AverageComp\n",
    "\n",
    "def train(config, writer=None):\n",
    "    # setup seeds\n",
    "    torch.manual_seed(config[\"seed\"])\n",
    "    torch.cuda.manual_seed(config[\"seed\"])\n",
    "    np.random.seed(config[\"seed\"])\n",
    "    torch.cuda.empty_cache()\n",
    "    \n",
    "    # setup device\n",
    "    device = torch.device(\"cuda\" if torch.cuda.is_available() else \"cpu\")\n",
    "    \n",
    "    # setup augmentations\n",
    "    ## ah todo\n",
    "    \n",
    "    # setup dataloader\n",
    "    sim_data = data_loader.get_loader(\"simulated\")()\n",
    "    train_data = data.DataLoader(sim_data, batch_size=config[\"batch_sz\"],\\\n",
    "                                 num_workers=config[\"num_workers\"], shuffle=True)\n",
    "    val_data = data.DataLoader(data_loader.get_loader(\"simulated\")(n_imgs=10), batch_size=config[\"batch_sz\"],\\\n",
    "                               num_workers=config[\"num_workers\"])  \n",
    "    n_classes = sim_data.n_classes\n",
    "    \n",
    "    # setup metrics\n",
    "    metrics_comp = MetricsComp(n_classes)\n",
    "    val_loss_avg_comp = AverageComp()\n",
    "    \n",
    "    # setup model\n",
    "    model = models.get_model(\"fcn32s\", n_classes).to(device)\n",
    "    #model = torch.nn.DataParallel(model, device_ids=range(torch.cuda.device_count()))\n",
    "    \n",
    "    # setup optimizer\n",
    "    optimizer = get_optimizer(\"adam\")(model.parameters())\n",
    "    \n",
    "    print(f\"Optimizer: {optimizer}\")\n",
    "    \n",
    "    # setup learning rate scheduler (optim.lr_scheduler)\n",
    "    ## ah todo\n",
    "    weight = torch.tensor([1.0] +  9*[10.0]).to(device) # weight the background 10x less\n",
    "    loss_fn = CrossEntropy2d(weight=weight)\n",
    "    \n",
    "    writer.add_scalar(\"batch_size\", config[\"batch_sz\"])\n",
    "\n",
    "    i = 0\n",
    "    # Load a saved checkpoint\n",
    "    if config.get(\"resume_ckpoint\") is not None:\n",
    "        if os.path.isfile(config[\"resume_ckpoint\"]):\n",
    "            print(f\"Loading checkpoint: {config['resume_ckpoint']}\")\n",
    "            ckpoint = torch.load(config[\"resume_ckpoint\"])\n",
    "            model.load_state_dict(ckpoint[\"model_state\"])\n",
    "            optimizer.load_state_dict(ckpoint[\"optimizer_state\"])\n",
    "            i = ckpoint[\"epoch\"]\n",
    "            print(f\"Saved epoch: {i}, loss: {ckpoint['epoch_loss']}, time: {ckpoint['epoch_time']}\")\n",
    "        else:\n",
    "            raise FileNotFoundError(\"Unable to load saved checkpoint!, Quitting\")\n",
    "            \n",
    "    while i < config[\"epochs\"]:\n",
    "        i += 1\n",
    "        epoch_loss = 0\n",
    "        epoch_time = 0\n",
    "        print(f\"Epoch {i}\")\n",
    "        # Prepare for training\n",
    "        model.train()\n",
    "        optimizer.zero_grad()\n",
    "        acc_gradients_batch = 0\n",
    "        for b_i, (images, labels) in tqdm(enumerate(train_data)):\n",
    "            start_ts = time.time()\n",
    "            images = images.to(device)\n",
    "            labels = labels.to(device)\n",
    "            \n",
    "            out = model(images) # [batch_sz, n_classes, H=512, W=512]\n",
    "            acc_gradients_batch += out.shape[0]\n",
    "\n",
    "            loss = loss_fn(out, labels)    \n",
    "            loss.backward()\n",
    "            \n",
    "            # See if it is time to take a gradient step.\n",
    "            if acc_gradients_batch >= 100: # gradient step every 100 samples\n",
    "              optimizer.step()\n",
    "              optimizer.zero_grad()\n",
    "              acc_gradients_batch = 0\n",
    "              \n",
    "            epoch_loss += float(loss.item())\n",
    "            epoch_time += time.time() - start_ts\n",
    "            writer.add_scalar(f\"{i}_batch_loss\", loss.item(), b_i)\n",
    "        \n",
    "        print(f\"Epoch Loss: {epoch_loss}\")\n",
    "          \n",
    "        # Run through validation\n",
    "        model.eval()\n",
    "        with torch.no_grad():\n",
    "            ctr = 0\n",
    "            for _, (images_val, labels_val) in tqdm(enumerate(val_data)):\n",
    "                if ctr > 10:\n",
    "                    break\n",
    "                ctr += 1\n",
    "                images_val = images_val.to(device)\n",
    "                labels_val = labels_val.to(device)               \n",
    "                out = model(images_val) # [batch_sz, n_classes, H=512, W=512]\n",
    "                val_loss = loss_fn(out, labels_val)\n",
    "                val_loss_avg_comp.update(val_loss.item())\n",
    "                \n",
    "                _, pred = out.max(1)\n",
    "\n",
    "                pred_uv, pred_uc = np.unique(pred.cpu().numpy(), return_counts=True)\n",
    "                ps = [f\"{p_uv} ({p_uc})\" for p_uv, p_uc in zip(pred_uv, pred_uc)]\n",
    "                print(f\"pred: {ps}\")\n",
    "                \n",
    "                lbl_uv, lbl_uc = np.unique(labels_val.cpu().numpy(), return_counts=True)\n",
    "                lbls = [f\"{l_uv} ({l_uc})\" for l_uv, l_uc in zip(lbl_uv, lbl_uc)]\n",
    "                print(f\"labels_val: {lbls}\")\n",
    "\n",
    "                metrics_comp.update(label_trues=labels_val.cpu().numpy(), label_preds=pred.cpu().numpy())\n",
    "        # Add validation results to tensorboard writer\n",
    "        writer.add_scalar(\"val_loss\", val_loss_avg_comp.avg, i)\n",
    "        overall_scores, class_iou = metrics_comp.get_results()\n",
    "        print(f\"Scores after epoch {i}: {overall_scores}\")\n",
    "        for k, v in overall_scores.items():\n",
    "            writer.add_scalar(f\"val_metrics/{k}\", v, i)\n",
    "        for k, v in class_iou.items():\n",
    "            writer.add_scalar(f\"val_metrics/cls_iou_{k}\", v, i)\n",
    "        \n",
    "        # Save the model checkpoint\n",
    "        ckpoint = {\"epoch\":i,\n",
    "                   \"model_state\": model.state_dict(),\n",
    "                   \"optimizer_state\": optimizer.state_dict(),\n",
    "                   \"epoch_loss\": epoch_loss,\n",
    "                   \"epoch_time\": epoch_time,\n",
    "                  }\n",
    "        ckpoint_name = f\"checkpoints/{config['exp_name']}_{i%3}.pkl\"\n",
    "        torch.save(ckpoint, ckpoint_name)\n",
    "    \n",
    "            \n",
    "config = {\"exp_name\": \"fcn32s\", \"batch_sz\": 8, \"epochs\": 5000,\\\n",
    "          \"seed\": 3642, \"num_workers\": 1, \"resume_ckpoint\": \"checkpoints/fcn32s_0.pkl\"}\n",
    "writer = SummaryWriter(log_dir=\"checkpoints/logs\")\n",
    "\n",
    "train(config, writer)"
   ]
  },
  {
   "cell_type": "code",
   "execution_count": null,
   "metadata": {},
   "outputs": [],
   "source": [
    "!pwd"
   ]
  },
  {
   "cell_type": "code",
   "execution_count": null,
   "metadata": {},
   "outputs": [],
   "source": [
    "!ls -alh checkpoints/logs"
   ]
  }
 ],
 "metadata": {
  "kernelspec": {
   "display_name": "Python 3",
   "language": "python",
   "name": "python3"
  },
  "language_info": {
   "codemirror_mode": {
    "name": "ipython",
    "version": 3
   },
   "file_extension": ".py",
   "mimetype": "text/x-python",
   "name": "python",
   "nbconvert_exporter": "python",
   "pygments_lexer": "ipython3",
   "version": "3.7.7"
  }
 },
 "nbformat": 4,
 "nbformat_minor": 4
}
