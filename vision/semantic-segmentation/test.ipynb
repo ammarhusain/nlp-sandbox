{
 "cells": [
  {
   "cell_type": "code",
   "execution_count": null,
   "metadata": {},
   "outputs": [],
   "source": [
    "import os\n",
    "import torch\n",
    "import numpy as np\n",
    "from scipy.io import loadmat\n",
    "import PIL\n",
    "from PIL import Image\n",
    "\n",
    "import data_loader\n",
    "import models\n",
    "from utils.metrics import EncodeColor\n",
    "\n",
    "import pydensecrf.densecrf as dcrf\n",
    "\n",
    "colors = loadmat('data_loader/mit_scene_color150.mat')\n",
    "\n",
    "def test(config):\n",
    "  device = torch.device(\"cpu\")#\"cuda\" if torch.cuda.is_available() else \"cpu\")\n",
    "\n",
    "  # Setup dataloader\n",
    "  mit_data = data_loader.get_loader(\"mit_sceneparsing_benchmark\")\n",
    "  mit_data = mit_data(\"validation\")\n",
    "\n",
    "  # Load model checkpoint\n",
    "  model = models.FCN32s(mit_data.n_classes).to(device)\n",
    "  print(f\"Loading model checkpoint: {config['ckpoint']}\")\n",
    "  ckpoint = torch.load(config[\"ckpoint\"], map_location=device)\n",
    "  model.load_state_dict(ckpoint[\"model_state\"])\n",
    "  print(f\"Saved epoch: {ckpoint['epoch']}, loss: {ckpoint['epoch_loss']}, time: {ckpoint['epoch_time']}\")\n",
    "  model.eval()\n",
    "  model.to(device)\n",
    "  for img, img_path in mit_data.get_images():\n",
    "    img = img.to(device)\n",
    "    # Make this into a batch of size 1. Model neeed NCHW\n",
    "    img = img.unsqueeze(0) # [1, C=3, H=512, W=512]\n",
    "    out = model(img) # [1, C=151, H=512, W=512]\n",
    "    \n",
    "    # Run the model softmax output through a densecrf\n",
    "    # AH TODO\n",
    "    \n",
    "    _, pred = out.max(1) # [1, H=512, W=512]\n",
    "    pred_np = pred.squeeze().cpu().numpy() # [H=512, W=512]\n",
    "    print(pred_np)\n",
    "    pred_col = EncodeColor(pred_np, colors['colors'])\n",
    "    \n",
    "    orig_file_name = os.path.splitext(os.path.basename(img_path))[0]\n",
    "    results_file = \"results/\" + orig_file_name + \"_res.png\"\n",
    "    Image.fromarray(pred_col).save(results_file)\n",
    "\n",
    "    \n",
    "config = {\"ckpoint\": \"checkpoints/mit_sceneparsing_FCN32s_full_logs_2.pkl\"}\n",
    "test(config)\n"
   ]
  },
  {
   "cell_type": "code",
   "execution_count": 42,
   "metadata": {},
   "outputs": [
    {
     "name": "stdout",
     "output_type": "stream",
     "text": [
      "The autoreload extension is already loaded. To reload it, use:\n",
      "  %reload_ext autoreload\n",
      "Generating 10000 images\n",
      "Loading model checkpoint: checkpoints/mnist_SmallAutoEncoder_denoise_logs_0.pkl\n",
      "Saved epoch: 498, loss: 16.759808354079723, time: 3.943406581878662\n",
      "653\n",
      "654\n",
      "655\n"
     ]
    },
    {
     "data": {
      "image/png": "[encoded data removed]",
      "text/plain": [
       "<Figure size 432x288 with 6 Axes>"
      ]
     },
     "metadata": {
      "needs_background": "light"
     },
     "output_type": "display_data"
    }
   ],
   "source": [
    "%load_ext autoreload\n",
    "%autoreload 2\n",
    "\n",
    "import os\n",
    "import torch\n",
    "import numpy as np\n",
    "\n",
    "import data_loader\n",
    "import models\n",
    "from utils.metrics import EncodeColor\n",
    "# Datasets\n",
    "from data_loader.mnist import NoisyMNISTDataLoader\n",
    "# Models\n",
    "from models.autoencoder import SmallAutoEncoder\n",
    "\n",
    "from matplotlib.pyplot import imshow\n",
    "from IPython import display\n",
    "import matplotlib.pyplot as plt\n",
    "import random\n",
    "\n",
    "def test(config):\n",
    "  device = torch.device(\"cpu\")#\"cuda\" if torch.cuda.is_available() else \"cpu\")\n",
    "\n",
    "  # Setup dataloader\n",
    "  noisy_mnist = NoisyMNISTDataLoader(\"validation\")\n",
    "    \n",
    "  # Load model checkpoint\n",
    "  model = SmallAutoEncoder().to(device)\n",
    "  print(f\"Loading model checkpoint: {config['ckpoint']}\")\n",
    "  ckpoint = torch.load(config[\"ckpoint\"], map_location=device)\n",
    "  model.load_state_dict(ckpoint[\"model_state\"])\n",
    "  print(f\"Saved epoch: {ckpoint['epoch']}, loss: {ckpoint['epoch_loss']}, time: {ckpoint['epoch_time']}\")\n",
    "  model.eval()\n",
    "  model.to(device)\n",
    "  \n",
    "  n_imgs = 2\n",
    "  f, axarr = plt.subplots(n_imgs,3)\n",
    "\n",
    "  start_idx = random.randint(0,len(noisy_mnist))\n",
    "  \n",
    "  ctr = 0\n",
    "  for idx in range(start_idx, len(noisy_mnist)):\n",
    "    img, label = noisy_mnist[idx]\n",
    "    if ctr >= n_imgs:\n",
    "      break\n",
    "    img = img.to(device)\n",
    "    # Make this into a batch of size 1. Model neeed NCHW\n",
    "    img = img.unsqueeze(0) # [1, C=1, H=28, W=28]\n",
    "    out = model(img) # [1, C=2, H=28, W=28]\n",
    "    \n",
    "    _, pred = out.max(1) # [1, H=28, W=28]\n",
    "    pred_np = pred.squeeze().cpu().numpy() # [H=512, W=512]\n",
    "    \n",
    "    axarr[ctr,0].imshow(img.squeeze())\n",
    "    axarr[ctr,1].imshow(label)\n",
    "    axarr[ctr,2].imshow(pred_np)\n",
    "    ctr+=1\n",
    "        \n",
    "config = {\"ckpoint\": \"checkpoints/mnist_SmallAutoEncoder_denoise_logs_0.pkl\"}\n",
    "test(config)"
   ]
  }
 ],
 "metadata": {
  "kernelspec": {
   "display_name": "Python 3",
   "language": "python",
   "name": "python3"
  },
  "language_info": {
   "codemirror_mode": {
    "name": "ipython",
    "version": 3
   },
   "file_extension": ".py",
   "mimetype": "text/x-python",
   "name": "python",
   "nbconvert_exporter": "python",
   "pygments_lexer": "ipython3",
   "version": "3.7.7"
  }
 },
 "nbformat": 4,
 "nbformat_minor": 4
}
