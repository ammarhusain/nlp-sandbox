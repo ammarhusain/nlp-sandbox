{
 "cells": [
  {
   "cell_type": "code",
   "execution_count": 1,
   "metadata": {},
   "outputs": [
    {
     "name": "stdout",
     "output_type": "stream",
     "text": [
      "Found 18 testing images\n",
      "Loading model checkpoint: checkpoints/fcn32s_10.pkl\n"
     ]
    }
   ],
   "source": [
    "import os\n",
    "import torch\n",
    "import numpy as np\n",
    "from scipy.io import loadmat\n",
    "import PIL\n",
    "from PIL import Image\n",
    "\n",
    "import data_loader\n",
    "import models\n",
    "from utils.metrics import EncodeColor\n",
    "\n",
    "import pydensecrf.densecrf as dcrf\n",
    "\n",
    "colors = loadmat('data_loader/mit_scene_color150.mat')\n",
    "\n",
    "def test(config):\n",
    "  device = torch.device(\"cuda\" if torch.cuda.is_available() else \"cpu\")\n",
    "\n",
    "  # Setup dataloader\n",
    "  mit_data = data_loader.get_loader(\"mit_sceneparsing_benchmark\")\n",
    "  mit_data = mit_data(\"testing\")\n",
    "\n",
    "  # Load model checkpoint\n",
    "  model = models.get_model(\"fcn32s\", mit_data.n_classes).to(device)\n",
    "  print(f\"Loading model checkpoint: {config['ckpoint']}\")\n",
    "  ckpoint = torch.load(config[\"ckpoint\"])\n",
    "  model.load_state_dict(ckpoint[\"model_state\"])\n",
    "  \n",
    "  model.eval()\n",
    "  model.to(device)\n",
    "  ctr = 0\n",
    "  for img, img_path in mit_data.get_images():\n",
    "    img = img.to(device)\n",
    "    # Make this into a batch of size 1. Model neeed NCHW\n",
    "    img = img.unsqueeze(0) # [1, C=3, H=512, W=512]\n",
    "    out = model(img) # [1, C=151, H=512, W=512]\n",
    "    \n",
    "    # Run the model softmax output through a densecrf\n",
    "    # AH TODO\n",
    "    \n",
    "    # TMP dump tensors\n",
    "    tnsr_ckpoint = {\"img\" : img, \"out\": out}\n",
    "    torch.save(tnsr_ckpoint, f\"results/tnsr_{ctr}.pkl\")\n",
    "    ctr += 1\n",
    "    \n",
    "    _, pred = out.max(1) # [1, H=512, W=512]\n",
    "    pred_np = pred.squeeze().cpu().numpy() # [H=512, W=512]\n",
    "    pred_col = EncodeColor(pred_np, colors['colors'])\n",
    "    \n",
    "    orig_file_name = os.path.splitext(os.path.basename(img_path))[0]\n",
    "    results_file = \"results/\" + orig_file_name + \"_res.png\"\n",
    "    Image.fromarray(pred_col).save(results_file)\n",
    "\n",
    "    \n",
    "config = {\"ckpoint\": \"checkpoints/fcn32s_10.pkl\"}\n",
    "test(config)\n"
   ]
  }
 ],
 "metadata": {
  "kernelspec": {
   "display_name": "Python 3",
   "language": "python",
   "name": "python3"
  },
  "language_info": {
   "codemirror_mode": {
    "name": "ipython",
    "version": 3
   },
   "file_extension": ".py",
   "mimetype": "text/x-python",
   "name": "python",
   "nbconvert_exporter": "python",
   "pygments_lexer": "ipython3",
   "version": "3.7.7"
  }
 },
 "nbformat": 4,
 "nbformat_minor": 4
}
