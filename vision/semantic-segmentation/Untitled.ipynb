{
 "cells": [
  {
   "cell_type": "code",
   "execution_count": 34,
   "metadata": {},
   "outputs": [
    {
     "name": "stdout",
     "output_type": "stream",
     "text": [
      "The autoreload extension is already loaded. To reload it, use:\n",
      "  %reload_ext autoreload\n"
     ]
    }
   ],
   "source": [
    "%load_ext autoreload\n",
    "%autoreload 2"
   ]
  },
  {
   "cell_type": "code",
   "execution_count": 55,
   "metadata": {},
   "outputs": [
    {
     "name": "stdout",
     "output_type": "stream",
     "text": [
      "Found 20210 training images\n",
      "Found 20210 training images\n",
      "data_loader/data/ADEChallengeData2016/annotations/training/ADE_train_00018295.png\n",
      "torch.Size([2, 3, 4])\n",
      "Sequential(\n",
      "  (0): Conv2d(3, 64, kernel_size=(3, 3), stride=(1, 1), padding=(100, 100))\n",
      "  (1): ReLU(inplace=True)\n",
      "  (2): Conv2d(64, 64, kernel_size=(3, 3), stride=(1, 1), padding=(1, 1))\n",
      "  (3): ReLU(inplace=True)\n",
      "  (4): MaxPool2d(kernel_size=2, stride=2, padding=0, dilation=1, ceil_mode=True)\n",
      ")\n"
     ]
    }
   ],
   "source": [
    "from data_loader.mit_scene_parsing import MITSceneParsingLoader\n",
    "import data_loader\n",
    "import models\n",
    "\n",
    "k = MITSceneParsingLoader()\n",
    "k = data_loader.get_loader(\"mit_sceneparsing_benchmark\")()\n",
    "img, annt = k[99]\n",
    "from PIL import Image\n",
    "#Image.fromarray(img, 'RGB').show()\n",
    "#print(img.shape)\n",
    "#Image.fromarray(annt).show()\n",
    "\n",
    "import torch\n",
    "\n",
    "tr = torch.rand((2,3,4))\n",
    "print(tr.size())\n",
    "torch.cuda.device_count()\n",
    "\n",
    "model = models.get_model(\"fcn32s\", 21)\n",
    "print(model.conv_block_1)"
   ]
  }
 ],
 "metadata": {
  "kernelspec": {
   "display_name": "Python 3",
   "language": "python",
   "name": "python3"
  },
  "language_info": {
   "codemirror_mode": {
    "name": "ipython",
    "version": 3
   },
   "file_extension": ".py",
   "mimetype": "text/x-python",
   "name": "python",
   "nbconvert_exporter": "python",
   "pygments_lexer": "ipython3",
   "version": "3.7.6"
  }
 },
 "nbformat": 4,
 "nbformat_minor": 4
}
