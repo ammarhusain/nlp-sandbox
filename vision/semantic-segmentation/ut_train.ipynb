{
 "cells": [
  {
   "cell_type": "code",
   "execution_count": 1,
   "metadata": {},
   "outputs": [],
   "source": [
    "%load_ext autoreload\n",
    "%autoreload 2"
   ]
  },
  {
   "cell_type": "code",
   "execution_count": 2,
   "metadata": {},
   "outputs": [
    {
     "name": "stdout",
     "output_type": "stream",
     "text": [
      "Generating 500 images\n",
      "Saved epoch: 117, loss: 11.503975912928581, time: 93.1805408000946\n"
     ]
    },
    {
     "name": "stderr",
     "output_type": "stream",
     "text": [
      "Clipping input data to the valid range for imshow with RGB data ([0..1] for floats or [0..255] for integers).\n"
     ]
    },
    {
     "name": "stdout",
     "output_type": "stream",
     "text": [
      "oo 57.03482437133789\n",
      "pred: ['0 (231424)', '2 (11820)', '3 (18900)']\n"
     ]
    },
    {
     "name": "stderr",
     "output_type": "stream",
     "text": [
      "Clipping input data to the valid range for imshow with RGB data ([0..1] for floats or [0..255] for integers).\n"
     ]
    },
    {
     "name": "stdout",
     "output_type": "stream",
     "text": [
      "oo 90.08174133300781\n",
      "pred: ['0 (244803)', '2 (10981)', '3 (6360)']\n"
     ]
    },
    {
     "name": "stderr",
     "output_type": "stream",
     "text": [
      "Clipping input data to the valid range for imshow with RGB data ([0..1] for floats or [0..255] for integers).\n"
     ]
    },
    {
     "name": "stdout",
     "output_type": "stream",
     "text": [
      "oo 67.20382690429688\n",
      "pred: ['0 (231484)', '2 (8160)', '3 (22500)']\n"
     ]
    },
    {
     "name": "stderr",
     "output_type": "stream",
     "text": [
      "Clipping input data to the valid range for imshow with RGB data ([0..1] for floats or [0..255] for integers).\n"
     ]
    },
    {
     "name": "stdout",
     "output_type": "stream",
     "text": [
      "oo 96.90625\n",
      "pred: ['0 (233103)', '2 (19141)', '3 (9900)']\n"
     ]
    },
    {
     "name": "stderr",
     "output_type": "stream",
     "text": [
      "Clipping input data to the valid range for imshow with RGB data ([0..1] for floats or [0..255] for integers).\n"
     ]
    },
    {
     "name": "stdout",
     "output_type": "stream",
     "text": [
      "oo 85.64763641357422\n",
      "pred: ['0 (226084)', '2 (27000)', '3 (9060)']\n"
     ]
    },
    {
     "data": {
      "image/png": "[encoded data removed]",
      "text/plain": [
       "<Figure size 432x288 with 15 Axes>"
      ]
     },
     "metadata": {
      "needs_background": "light"
     },
     "output_type": "display_data"
    }
   ],
   "source": [
    "import data_loader\n",
    "import models  \n",
    "import torch\n",
    "from matplotlib.pyplot import imshow\n",
    "import matplotlib.pyplot as plt\n",
    "import time\n",
    "import numpy as np\n",
    "\n",
    "%matplotlib inline\n",
    "\n",
    "# setup dataloader\n",
    "sim_data = data_loader.get_loader(\"simulated\")()\n",
    "n_classes = sim_data.n_classes\n",
    "\n",
    "# setup model\n",
    "model = models.get_model(\"fcn32s\", n_classes)\n",
    "    \n",
    "# load saved model\n",
    "ckpoint = torch.load(\"checkpoints/fcn32s_0.pkl\")\n",
    "model.load_state_dict(ckpoint[\"model_state\"])\n",
    "print(f\"Saved epoch: {ckpoint['epoch']}, loss: {ckpoint['epoch_loss']}, time: {ckpoint['epoch_time']}\")\n",
    "\n",
    "n_img = 5\n",
    "ctr = 0\n",
    "f, axarr = plt.subplots(n_img, 3)\n",
    "for img ,annt in sim_data:\n",
    "  out = model(img.unsqueeze(0)) # [batch_sz, n_classes, H=512, W=512]\n",
    "  print(f\"oo {np.max(out.cpu().detach().numpy())}\")\n",
    "  _, pred = out.max(1)\n",
    "  pred_uv, pred_uc = torch.unique(pred, return_counts=True)\n",
    "  ps = [f\"{p_uv} ({p_uc})\" for p_uv, p_uc in zip(pred_uv, pred_uc)]\n",
    "  print(f\"pred: {ps}\")\n",
    "  \n",
    "  _, pred = sim_data.get_viz(img, pred.squeeze())\n",
    "  img, annt = sim_data.get_viz(img, annt)\n",
    "  axarr[ctr,0].imshow(img)\n",
    "  axarr[ctr,1].imshow(pred)\n",
    "  axarr[ctr,2].imshow(annt)\n",
    "\n",
    "  ctr += 1\n",
    "  if ctr >= n_img:\n",
    "    break\n",
    "  \n",
    "\n",
    "\n",
    "\n"
   ]
  },
  {
   "cell_type": "code",
   "execution_count": 3,
   "metadata": {},
   "outputs": [
    {
     "ename": "SyntaxError",
     "evalue": "invalid syntax (<ipython-input-3-16009fc382f5>, line 1)",
     "output_type": "error",
     "traceback": [
      "\u001b[0;36m  File \u001b[0;32m\"<ipython-input-3-16009fc382f5>\"\u001b[0;36m, line \u001b[0;32m1\u001b[0m\n\u001b[0;31m    k = 9*[10])\u001b[0m\n\u001b[0m              ^\u001b[0m\n\u001b[0;31mSyntaxError\u001b[0m\u001b[0;31m:\u001b[0m invalid syntax\n"
     ]
    }
   ],
   "source": [
    "k = 9*[10])\n",
    "*k"
   ]
  },
  {
   "cell_type": "code",
   "execution_count": null,
   "metadata": {},
   "outputs": [],
   "source": [
    "path = \"data_loader/data/ADEChallengeData2016/images/testing/ADE_val_00000004.jpg\"\n",
    "\n",
    "import os\n",
    "\n",
    "os.path.splitext(os.path.basename(path))[0]\n",
    "\n",
    "import torch\n",
    "\n",
    "tnsr_0 = torch.load(\"results/tnsr_0.pkl\")\n",
    "print(tnsr_0['out'])\n",
    "\n",
    "tnsr_1 = torch.load(\"results/tnsr_1.pkl\")\n",
    "print(tnsr_1['out'])\n",
    "\n",
    "tnsr_2 = torch.load(\"results/tnsr_2.pkl\")\n",
    "print(tnsr_2['out'])"
   ]
  }
 ],
 "metadata": {
  "kernelspec": {
   "display_name": "Python 3",
   "language": "python",
   "name": "python3"
  },
  "language_info": {
   "codemirror_mode": {
    "name": "ipython",
    "version": 3
   },
   "file_extension": ".py",
   "mimetype": "text/x-python",
   "name": "python",
   "nbconvert_exporter": "python",
   "pygments_lexer": "ipython3",
   "version": "3.7.7"
  }
 },
 "nbformat": 4,
 "nbformat_minor": 4
}
