{
 "cells": [
  {
   "cell_type": "code",
   "execution_count": 1,
   "metadata": {},
   "outputs": [],
   "source": [
    "#%load_ext autoreload\n",
    "#%autoreload 2\n",
    "\n",
    "#from mit_scene_parsing import MITSceneParsingLoader\n",
    "#k = MITSceneParsingLoader()\n",
    "#print(f\"k num cls: {k.n_classes}\")\n",
    "\n",
    "#print(k.files[15828])\n",
    "#img = Image.open(k.files[15828])\n",
    "#img.show()\n",
    "#img, annt = k[15828]\n",
    "#print(img.shape)\n",
    "#print(annt.shape)\n",
    "\n",
    "\n",
    "from PIL import Image\n",
    "#Image.fromarray(img, 'RGB').show()\n",
    "#print(img.shape)\n",
    "#Image.fromarray(annt).show()\n",
    "\n",
    "import torch\n",
    "\n",
    "\n"
   ]
  },
  {
   "cell_type": "code",
   "execution_count": 3,
   "metadata": {},
   "outputs": [
    {
     "name": "stdout",
     "output_type": "stream",
     "text": [
      "The autoreload extension is already loaded. To reload it, use:\n",
      "  %reload_ext autoreload\n"
     ]
    },
    {
     "name": "stderr",
     "output_type": "stream",
     "text": [
      "Clipping input data to the valid range for imshow with RGB data ([0..1] for floats or [0..255] for integers).\n"
     ]
    },
    {
     "name": "stdout",
     "output_type": "stream",
     "text": [
      "[[[(299, 368, 98), (299, 368, 98), (299, 368, 98), (299, 368, 98)]], [[(328, 377, 65), (328, 377, 65), (328, 377, 65), (328, 377, 65)]], [[(96, 276, 44), (96, 276, 44), (96, 276, 44), (96, 276, 44)]], [[(275, 213, 88), (275, 213, 88), (275, 213, 88), (275, 213, 88)]], [[(133, 428, 75), (133, 428, 75), (133, 428, 75), (133, 428, 75)]], [[(456, 315, 70), (456, 315, 70), (456, 315, 70), (456, 315, 70)]], [[(106, 95, 75), (106, 95, 75), (106, 95, 75), (106, 95, 75)]], [[(416, 178, 99), (416, 178, 99), (416, 178, 99), (416, 178, 99)]], [[(451, 277, 33), (451, 277, 33), (451, 277, 33), (451, 277, 33)]], [[(295, 167, 102), (295, 167, 102), (295, 167, 102), (295, 167, 102)]]]\n",
      "Generating 10 images\n",
      "10\n"
     ]
    },
    {
     "data": {
      "text/plain": [
       "<matplotlib.image.AxesImage at 0x7fc4ea3c0410>"
      ]
     },
     "execution_count": 3,
     "metadata": {},
     "output_type": "execute_result"
    },
    {
     "data": {
      "image/png": "[encoded data removed]",
      "text/plain": [
       "<Figure size 432x288 with 2 Axes>"
      ]
     },
     "metadata": {
      "needs_background": "light"
     },
     "output_type": "display_data"
    }
   ],
   "source": [
    "%load_ext autoreload\n",
    "%autoreload 2\n",
    "\n",
    "from simulated_data import SimulatedDataLoader\n",
    "import numpy as np\n",
    "from PIL import Image\n",
    "from matplotlib.pyplot import imshow\n",
    "from IPython import display\n",
    "import matplotlib.pyplot as plt\n",
    "\n",
    "np.random.seed(1234)\n",
    "\n",
    "sdl = SimulatedDataLoader(n_imgs=10)\n",
    "\n",
    "\n",
    "print(sdl.n_classes)\n",
    "\n",
    "img, annt = sdl.get_viz(*sdl[4])\n",
    "\n",
    "\n",
    "\n",
    "\n",
    "%matplotlib inline\n",
    "f, axarr = plt.subplots(2)\n",
    "axarr[0].imshow(img)\n",
    "axarr[1].imshow(annt)"
   ]
  }
 ],
 "metadata": {
  "kernelspec": {
   "display_name": "Python 3",
   "language": "python",
   "name": "python3"
  },
  "language_info": {
   "codemirror_mode": {
    "name": "ipython",
    "version": 3
   },
   "file_extension": ".py",
   "mimetype": "text/x-python",
   "name": "python",
   "nbconvert_exporter": "python",
   "pygments_lexer": "ipython3",
   "version": "3.7.7"
  }
 },
 "nbformat": 4,
 "nbformat_minor": 4
}
