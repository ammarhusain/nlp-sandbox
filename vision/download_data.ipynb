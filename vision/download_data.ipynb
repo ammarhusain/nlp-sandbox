{
 "cells": [
  {
   "cell_type": "code",
   "execution_count": 3,
   "metadata": {},
   "outputs": [
    {
     "name": "stdout",
     "output_type": "stream",
     "text": [
      "rm: cannot remove 'data_loader/data/ADEChallengeData2016/images/training/ADE_train_00001701.jpg': No such file or directory\n"
     ]
    }
   ],
   "source": [
    "#!wget http://data.csail.mit.edu/places/ADEchallenge/ADEChallengeData2016.zip -P data_loader/data/.\n",
    "#!unzip -d data_loader/data data_loader/data/ADEChallengeData2016.zip\n",
    "\n",
    "# remove this image .. seems corrupted... shouldnt need it\n",
    "##!rm data_loader/data/ADEChallengeData2016/images/training/ADE_train_00001701.jpg"
   ]
  },
  {
   "cell_type": "code",
   "execution_count": 2,
   "metadata": {},
   "outputs": [
    {
     "name": "stdout",
     "output_type": "stream",
     "text": [
      "tensor([[0.8257, 0.4122, 0.5692, 0.1186, 0.7721, 0.0871, 0.1742, 0.6723, 0.2104,\n",
      "         0.9549, 0.1765, 0.1483, 0.0677, 0.1851, 0.8162, 0.2310]])\n",
      "tensor(0.9549) tensor(0.0677) tensor(0.4013)\n",
      "tensor([[1.0922, 0.8571, 0.7125, 0.7892, 0.9162, 1.0369, 1.0179, 1.0840, 0.7498,\n",
      "         0.8270]])\n"
     ]
    }
   ],
   "source": [
    "import torch\n",
    "\n",
    "a = torch.rand(1, 16)\n",
    "\n",
    "print(a)\n",
    "\n",
    "a[0,2:9]\n",
    "\n",
    "print(a.max(), a.min(), a.mean())\n",
    "\n",
    "b = torch.FloatTensor(1, 10).uniform_(0.7, 1.2)\n",
    "print(b)"
   ]
  },
  {
   "cell_type": "code",
   "execution_count": 1,
   "metadata": {},
   "outputs": [],
   "source": [
    "from torch.utils.tensorboard import SummaryWriter\n",
    "import numpy as np\n",
    "img = np.zeros((3, 100, 100))\n",
    "img[0] = np.arange(0, 10000).reshape(100, 100) / 10000\n",
    "img[1] = 1 - np.arange(0, 10000).reshape(100, 100) / 10000\n",
    "\n",
    "img_HWC = np.zeros((100, 100, 3))\n",
    "img_HWC[:, :, 0] = np.arange(0, 10000).reshape(100, 100) / 10000\n",
    "img_HWC[:, :, 1] = 1 - np.arange(0, 10000).reshape(100, 100) / 10000\n",
    "\n",
    "writer = SummaryWriter()\n",
    "for i in range(10):\n",
    "  writer.add_image('my_image', img, i)\n",
    "\n",
    "# If you have non-default dimension setting, set the dataformats argument.\n",
    "writer.add_image('my_image_HWC', img_HWC, 0, dataformats='HWC')\n",
    "writer.close()"
   ]
  },
  {
   "cell_type": "code",
   "execution_count": 2,
   "metadata": {},
   "outputs": [
    {
     "name": "stdout",
     "output_type": "stream",
     "text": [
      "--2020-08-20 20:46:29--  https://docs.google.com/uc?export=download&id=0B7EVK8r0v71pZjFTYXZWM3FlRnM\n",
      "Resolving docs.google.com (docs.google.com)... 2607:f8b0:4005:808::200e, 172.217.6.46\n",
      "Connecting to docs.google.com (docs.google.com)|2607:f8b0:4005:808::200e|:443... connected.\n",
      "HTTP request sent, awaiting response... 200 OK\n",
      "Length: unspecified [text/html]\n",
      "Saving to: ‘data_loader/data/celeb_faces’\n",
      "\n",
      "data_loader/data/ce     [ <=>                ]   3.40K  --.-KB/s    in 0s      \n",
      "\n",
      "2020-08-20 20:46:30 (26.5 MB/s) - ‘data_loader/data/celeb_faces’ saved [3486]\n",
      "\n"
     ]
    }
   ],
   "source": []
  }
 ],
 "metadata": {
  "kernelspec": {
   "display_name": "Python 3",
   "language": "python",
   "name": "python3"
  },
  "language_info": {
   "codemirror_mode": {
    "name": "ipython",
    "version": 3
   },
   "file_extension": ".py",
   "mimetype": "text/x-python",
   "name": "python",
   "nbconvert_exporter": "python",
   "pygments_lexer": "ipython3",
   "version": "3.7.7"
  }
 },
 "nbformat": 4,
 "nbformat_minor": 4
}
