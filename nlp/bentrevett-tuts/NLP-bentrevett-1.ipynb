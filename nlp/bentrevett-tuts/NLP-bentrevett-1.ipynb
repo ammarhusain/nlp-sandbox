{
 "cells": [
  {
   "cell_type": "markdown",
   "metadata": {
    "colab_type": "text",
    "id": "vii9qaLs5Vmx"
   },
   "source": [
    "Implements the model from the [Sequence to Sequence Learning with Neural Networks](https://arxiv.org/abs/1409.3215) paper. [\\[Tutorial\\]](https://github.com/bentrevett/pytorch-seq2seq/blob/master/1%20-%20Sequence%20to%20Sequence%20Learning%20with%20Neural%20Networks.ipynb)\n",
    "\n"
   ]
  },
  {
   "cell_type": "code",
   "execution_count": 1,
   "metadata": {
    "colab": {
     "base_uri": "https://localhost:8080/",
     "height": 972
    },
    "colab_type": "code",
    "executionInfo": {
     "elapsed": 23786,
     "status": "ok",
     "timestamp": 1592439989553,
     "user": {
      "displayName": "Ammar Husain",
      "photoUrl": "https://lh3.googleusercontent.com/a-/AOh14GhK_5ZuOt0ZUtSnd8Qf5pN727P_0i1wLPU6ixPb=s64",
      "userId": "10057289260862428677"
     },
     "user_tz": 420
    },
    "id": "neHaBzP35R9F",
    "outputId": "9eb65a0f-8d8b-48b1-d372-245adf6bc4fe"
   },
   "outputs": [
    {
     "ename": "ModuleNotFoundError",
     "evalue": "No module named 'spacy'",
     "output_type": "error",
     "traceback": [
      "\u001b[0;31m---------------------------------------------------------------------------\u001b[0m",
      "\u001b[0;31mModuleNotFoundError\u001b[0m                       Traceback (most recent call last)",
      "\u001b[0;32m<ipython-input-1-dea8a285e744>\u001b[0m in \u001b[0;36m<module>\u001b[0;34m\u001b[0m\n\u001b[1;32m      6\u001b[0m \u001b[0;32mfrom\u001b[0m \u001b[0mtorchtext\u001b[0m\u001b[0;34m.\u001b[0m\u001b[0mdata\u001b[0m \u001b[0;32mimport\u001b[0m \u001b[0mField\u001b[0m\u001b[0;34m,\u001b[0m \u001b[0mBucketIterator\u001b[0m\u001b[0;34m\u001b[0m\u001b[0;34m\u001b[0m\u001b[0m\n\u001b[1;32m      7\u001b[0m \u001b[0;34m\u001b[0m\u001b[0m\n\u001b[0;32m----> 8\u001b[0;31m \u001b[0;32mimport\u001b[0m \u001b[0mspacy\u001b[0m\u001b[0;34m\u001b[0m\u001b[0;34m\u001b[0m\u001b[0m\n\u001b[0m\u001b[1;32m      9\u001b[0m \u001b[0;32mimport\u001b[0m \u001b[0mnumpy\u001b[0m \u001b[0;32mas\u001b[0m \u001b[0mnp\u001b[0m\u001b[0;34m\u001b[0m\u001b[0;34m\u001b[0m\u001b[0m\n\u001b[1;32m     10\u001b[0m \u001b[0;34m\u001b[0m\u001b[0m\n",
      "\u001b[0;31mModuleNotFoundError\u001b[0m: No module named 'spacy'"
     ]
    }
   ],
   "source": [
    "import torch\n",
    "import torch.nn as nn\n",
    "import torch.optim as optim\n",
    "\n",
    "from torchtext.datasets import Multi30k\n",
    "from torchtext.data import Field, BucketIterator\n",
    "\n",
    "import spacy\n",
    "import numpy as np\n",
    "\n",
    "import random\n",
    "import math\n",
    "import time\n",
    "\n",
    "# Mount Google drive\n",
    "# from google.colab import drive\n",
    "# drive.mount('/content/drive')\n",
    "# sandbox_path = \"drive/My Drive/Colab Notebooks/PyTorch/NLP/bentrevett-tuts/\"\n",
    "sandbox_path = \"\"\n",
    "\n",
    "SEED = 42\n",
    "random.seed(SEED)\n",
    "np.random.seed(SEED)\n",
    "torch.manual_seed(SEED)\n",
    "torch.cuda.manual_seed(SEED)\n",
    "torch.backends.cudnn.deterministic = True\n",
    "\n",
    "!python -m spacy download en\n",
    "!python -m spacy download de\n"
   ]
  },
  {
   "cell_type": "markdown",
   "metadata": {
    "colab_type": "text",
    "id": "5QW9LmO0LbwV"
   },
   "source": [
    "## Data Preparation: TorchText"
   ]
  },
  {
   "cell_type": "markdown",
   "metadata": {
    "colab_type": "text",
    "id": "PDZ-5GGy6VQr"
   },
   "source": [
    "In the Seq2seq paper, they reverse the order of the input which they believe \"introduces many short term dependencies in the data that make the optimization problem much easier\".\n",
    "\n",
    "TorchText's Fields handle how data should be processed. All of the possible arguments are detailed [here](https://torchtext.readthedocs.io/en/latest/data.html#field)."
   ]
  },
  {
   "cell_type": "code",
   "execution_count": 2,
   "metadata": {
    "colab": {
     "base_uri": "https://localhost:8080/",
     "height": 68
    },
    "colab_type": "code",
    "executionInfo": {
     "elapsed": 2756,
     "status": "ok",
     "timestamp": 1592439966014,
     "user": {
      "displayName": "Ammar Husain",
      "photoUrl": "https://lh3.googleusercontent.com/a-/AOh14GhK_5ZuOt0ZUtSnd8Qf5pN727P_0i1wLPU6ixPb=s64",
      "userId": "10057289260862428677"
     },
     "user_tz": 420
    },
    "id": "MQ9Wu6ysKeAm",
    "outputId": "8550e4d2-0406-4e5b-8a15-05cd63159bf3"
   },
   "outputs": [
    {
     "name": "stdout",
     "output_type": "stream",
     "text": [
      "<spacy.lang.en.English object at 0x7fe7caef1ef0>\n",
      "<class 'spacy.tokens.doc.Doc'>\n",
      "Hello. how do you do good, sir!\n"
     ]
    }
   ],
   "source": [
    "spacy_en = spacy.load('en')\n",
    "spacy_de = spacy.load('de')\n",
    "print(spacy_en)\n",
    "\n",
    "def tokenize_de(text):\n",
    "  \"Tokenize and reverse a German language string\"\n",
    "  return [tok.text for tok in spacy_de.tokenizer(text)][::-1]\n",
    "\n",
    "def tokenize_en(text):\n",
    "  return [tok.text for tok in spacy_en.tokenizer(text)]\n",
    "\n",
    "\n",
    "foo = spacy_en.tokenizer(\"Hello. how do you do good, sir!\")\n",
    "print(type(foo))\n",
    "print(foo)\n",
    "[type(t.text) for t in foo]\n",
    "\n",
    "SRC = Field(tokenize = tokenize_de, init_token='<sos>', \n",
    "            eos_token='<eos>', lower=True)\n",
    "TRG = Field(tokenize = tokenize_en, init_token='<sos>', \n",
    "            eos_token='<eos>', lower=True)"
   ]
  },
  {
   "cell_type": "markdown",
   "metadata": {
    "colab_type": "text",
    "id": "wnen9ujd8X0B"
   },
   "source": [
    "\n",
    "Next, we download and load the train, validation and test data.\n",
    "\n",
    "The dataset we'll be using is the [Multi30k](https://github.com/multi30k/dataset) dataset. This is a dataset with ~30,000 parallel English, German and French sentences, each with ~12 words per sentence."
   ]
  },
  {
   "cell_type": "code",
   "execution_count": 3,
   "metadata": {
    "colab": {
     "base_uri": "https://localhost:8080/",
     "height": 105
    },
    "colab_type": "code",
    "executionInfo": {
     "elapsed": 7695,
     "status": "ok",
     "timestamp": 1592439970973,
     "user": {
      "displayName": "Ammar Husain",
      "photoUrl": "https://lh3.googleusercontent.com/a-/AOh14GhK_5ZuOt0ZUtSnd8Qf5pN727P_0i1wLPU6ixPb=s64",
      "userId": "10057289260862428677"
     },
     "user_tz": 420
    },
    "id": "sMhT-NCi8mcs",
    "outputId": "ab9fc280-954c-4811-f680-41628e011621"
   },
   "outputs": [
    {
     "name": "stdout",
     "output_type": "stream",
     "text": [
      "downloading training.tar.gz\n"
     ]
    },
    {
     "name": "stderr",
     "output_type": "stream",
     "text": [
      "training.tar.gz: 100%|██████████| 1.21M/1.21M [00:02<00:00, 572kB/s]\n"
     ]
    },
    {
     "name": "stdout",
     "output_type": "stream",
     "text": [
      "downloading validation.tar.gz\n"
     ]
    },
    {
     "name": "stderr",
     "output_type": "stream",
     "text": [
      "validation.tar.gz: 100%|██████████| 46.3k/46.3k [00:00<00:00, 163kB/s]\n"
     ]
    },
    {
     "name": "stdout",
     "output_type": "stream",
     "text": [
      "downloading mmt_task1_test2016.tar.gz\n"
     ]
    },
    {
     "name": "stderr",
     "output_type": "stream",
     "text": [
      "mmt_task1_test2016.tar.gz: 100%|██████████| 66.2k/66.2k [00:00<00:00, 158kB/s]\n"
     ]
    },
    {
     "name": "stdout",
     "output_type": "stream",
     "text": [
      "Python 3.6.10 :: Anaconda, Inc.\n",
      "sdf 56\n",
      "Number of training examples: 29000\n",
      "Number of validation examples: 1014\n",
      "Number of testing examples: 1000\n",
      "{'src': ['.', 'büsche', 'vieler', 'nähe', 'der', 'in', 'freien', 'im', 'sind', 'männer', 'weiße', 'junge', 'zwei'], 'trg': ['two', 'young', ',', 'white', 'males', 'are', 'outside', 'near', 'many', 'bushes', '.']}\n"
     ]
    }
   ],
   "source": [
    "train_data, valid_data, test_data = Multi30k.splits(exts = ('.de', '.en'),\n",
    "                                                    fields = (SRC, TRG))\n",
    "print(f\"Number of training examples: {len(train_data.examples)}\")\n",
    "print(f\"Number of validation examples: {len(valid_data.examples)}\")\n",
    "print(f\"Number of testing examples: {len(test_data.examples)}\")\n",
    "print(vars(train_data.examples[0]))"
   ]
  },
  {
   "cell_type": "markdown",
   "metadata": {
    "colab_type": "text",
    "id": "l-X_X0WR-B8d"
   },
   "source": [
    "Next, we'll build the vocabulary for the source and target languages. The vocabulary is used to associate each unique token with an index (an integer). The vocabularies of the source and target languages are distinct.\n",
    "\n",
    "Using the min_freq argument, we only allow tokens that appear at least 2 times to appear in our vocabulary. Tokens that appear only once are converted into an <unk> (unknown) token.\n",
    "\n",
    "It is important to note that our vocabulary should only be built from the training set and not the validation/test set. This prevents \"information leakage\" into our model, giving us artifically inflated validation/test scores."
   ]
  },
  {
   "cell_type": "code",
   "execution_count": 4,
   "metadata": {
    "colab": {
     "base_uri": "https://localhost:8080/",
     "height": 51
    },
    "colab_type": "code",
    "executionInfo": {
     "elapsed": 7852,
     "status": "ok",
     "timestamp": 1592439971142,
     "user": {
      "displayName": "Ammar Husain",
      "photoUrl": "https://lh3.googleusercontent.com/a-/AOh14GhK_5ZuOt0ZUtSnd8Qf5pN727P_0i1wLPU6ixPb=s64",
      "userId": "10057289260862428677"
     },
     "user_tz": 420
    },
    "id": "pvO7KsxM-BMV",
    "outputId": "a1e7b5f1-29e4-4c9b-d4e5-f14b2cc4d820"
   },
   "outputs": [
    {
     "name": "stdout",
     "output_type": "stream",
     "text": [
      "Unique token in SRC (de) vocab: 7854\n",
      "Unique token in SRC (en) vocab: 5893\n"
     ]
    }
   ],
   "source": [
    "SRC.build_vocab(train_data, min_freq=2)\n",
    "TRG.build_vocab(train_data, min_freq=2)\n",
    "print(f\"Unique token in SRC (de) vocab: {len(SRC.vocab)}\")\n",
    "print(f\"Unique token in SRC (en) vocab: {len(TRG.vocab)}\")"
   ]
  },
  {
   "cell_type": "markdown",
   "metadata": {
    "colab_type": "text",
    "id": "bAj7JlSTC0uR"
   },
   "source": [
    "\n",
    "The final step of preparing the data is to create the iterators. These can be iterated on to return a batch of data which will have a src attribute (the PyTorch tensors containing a batch of numericalized source sentences) and a trg attribute (the PyTorch tensors containing a batch of numericalized target sentences). Numericalized is just a fancy way of saying they have been converted from a sequence of readable tokens to a sequence of corresponding indexes, using the vocabulary.\n",
    "\n",
    "When we get a batch of examples using an iterator we need to make sure that all of the source sentences are padded to the same length, the same with the target sentences. Luckily, TorchText iterators handle this for us!\n",
    "\n",
    "We use a BucketIterator instead of the standard Iterator as it creates batches in such a way that it minimizes the amount of padding in both the source and target sentences."
   ]
  },
  {
   "cell_type": "code",
   "execution_count": 5,
   "metadata": {
    "colab": {},
    "colab_type": "code",
    "executionInfo": {
     "elapsed": 8094,
     "status": "ok",
     "timestamp": 1592439971395,
     "user": {
      "displayName": "Ammar Husain",
      "photoUrl": "https://lh3.googleusercontent.com/a-/AOh14GhK_5ZuOt0ZUtSnd8Qf5pN727P_0i1wLPU6ixPb=s64",
      "userId": "10057289260862428677"
     },
     "user_tz": 420
    },
    "id": "sUa5HzxHC4Mt"
   },
   "outputs": [],
   "source": [
    "device = torch.device('cuda' if torch.cuda.is_available() else 'cpu')\n",
    "\n",
    "BATCH_SIZE = 128\n",
    "\n",
    "train_iterator, valid_iterator, test_iterator = BucketIterator.splits(\n",
    "    (train_data, valid_data, test_data), batch_size=BATCH_SIZE, device=device)"
   ]
  },
  {
   "cell_type": "markdown",
   "metadata": {
    "colab_type": "text",
    "id": "4Y4-ZvFfDS98"
   },
   "source": [
    "## Building the Seq2Seq Model\n",
    "\n",
    "We'll be building the model in three parts: The encoder, the decoder, and a seq2seq model that encapsulates the encoder and decoder and will provide a way to interface with each.\n",
    "\n",
    "### Encoder\n",
    "2-Layer LSTM. Paper implements 4 layer, but doing 2 to save training time. Only our hidden state from the first layer is passed as input to the second layer, and not the cell state. One thing to note is that the dropout argument to the LSTM is how much dropout to apply between the layers of a multi-layer RNN, i.e. between the hidden states output from layer $l$ and those same hidden states being used for the input of layer $l+1$. The RNN returns: outputs (the top-layer hidden state for each time-step), hidden (the final hidden state for each layer, $h_T$, stacked on top of each other) and cell (the final cell state for each layer, $c_T$, stacked on top of each other).\n",
    "\n",
    "As we only need the final hidden and cell states (to make our context vector), forward only returns hidden and cell."
   ]
  },
  {
   "cell_type": "code",
   "execution_count": 6,
   "metadata": {
    "colab": {},
    "colab_type": "code",
    "executionInfo": {
     "elapsed": 8091,
     "status": "ok",
     "timestamp": 1592439971401,
     "user": {
      "displayName": "Ammar Husain",
      "photoUrl": "https://lh3.googleusercontent.com/a-/AOh14GhK_5ZuOt0ZUtSnd8Qf5pN727P_0i1wLPU6ixPb=s64",
      "userId": "10057289260862428677"
     },
     "user_tz": 420
    },
    "id": "3FOShwvXHnfO"
   },
   "outputs": [],
   "source": [
    "class Encoder(nn.Module):\n",
    "  def __init__(self, input_dim, emb_dim, hid_dim, n_layers, dropout_p):\n",
    "    super().__init__()\n",
    "    self.hid_dim = hid_dim\n",
    "\n",
    "    self.embedding = nn.Embedding(input_dim, emb_dim)\n",
    "    self.rnn = nn.LSTM(emb_dim, hid_dim, n_layers, dropout=dropout_p)\n",
    "    self.dropout = nn.Dropout(dropout_p)\n",
    "\n",
    "  def forward(self, src):\n",
    "    # src shp: src_len x batch_size\n",
    "    \n",
    "    embedded = self.dropout(self.embedding(src)) # shp: src_len x batch_size x emb_dim\n",
    "\n",
    "    outputs, (hidden, cell) = self.rnn(embedded)\n",
    "\n",
    "    # outputs are always from the top hidden layer\n",
    "    # outputs shp: src_len x batch_size x hid_dim*n_directions\n",
    "    # hidden shp: n_layers*n_directions x batch_size x hid_dim\n",
    "    # cell shp: n_layers*n_directions x batch_size x hid_dim\n",
    "    return hidden, cell"
   ]
  },
  {
   "cell_type": "markdown",
   "metadata": {
    "colab_type": "text",
    "id": "CFP-nIczJSSv"
   },
   "source": [
    "### Decoder\n",
    "2-layer LSTM (4 in the paper). The Decoder class does a single step of decoding, i.e. it ouputs single token per time-step. The first layer will receive a hidden and cell state from the previous time-step, $(s_{t-1}^1, c_{t-1}^1)$, and feeds it through the LSTM with the current embedded token, $y_t$, to produce a new hidden and cell state, $(s_t^1, c_t^1)$. The subsequent layers will use the hidden state from the layer below, $s_t^{l-1}$, and the previous hidden and cell states from their layer, $(s_{t-1}^l, c_{t-1}^l)$. This provides equations very similar to those in the encoder. Remember that the initial hidden and cell states to our decoder are our context vectors, which are the final hidden and cell states of our encoder from the same layer, i.e. $(s_0^l,c_0^l)=z^l=(h_T^l,c_T^l)$. We then pass the hidden state from the top layer of the RNN, $s_t^L$, through a linear layer, $f$, to make a prediction of what the next token in the target (output) sequence should be, $\\hat{y}_{t+1}$.\n",
    "\n",
    "As we are only decoding one token at a time, the input tokens will always have a sequence length of 1. We unsqueeze the input tokens to add a sentence length dimension of 1. We then pass the output (after getting rid of the sentence length dimension) through the linear layer to receive our prediction. We then return the prediction, the new hidden state and the new cell state.\n",
    "\n",
    "Note: as we always have a sequence length of 1, we could use nn.LSTMCell, instead of nn.LSTM, as it is designed to handle a batch of inputs that aren't necessarily in a sequence. nn.LSTMCell is just a single cell and nn.LSTM is a wrapper around potentially multiple cells. Using the nn.LSTMCell in this case would mean we don't have to unsqueeze to add a fake sequence length dimension, but we would need one nn.LSTMCell per layer in the decoder and to ensure each nn.LSTMCell receives the correct initial hidden state from the encoder. All of this makes the code less concise - hence the decision to stick with the regular nn.LSTM.\n",
    "\n"
   ]
  },
  {
   "cell_type": "code",
   "execution_count": 7,
   "metadata": {
    "colab": {},
    "colab_type": "code",
    "executionInfo": {
     "elapsed": 8081,
     "status": "ok",
     "timestamp": 1592439971406,
     "user": {
      "displayName": "Ammar Husain",
      "photoUrl": "https://lh3.googleusercontent.com/a-/AOh14GhK_5ZuOt0ZUtSnd8Qf5pN727P_0i1wLPU6ixPb=s64",
      "userId": "10057289260862428677"
     },
     "user_tz": 420
    },
    "id": "RHIS9PadVr7W"
   },
   "outputs": [],
   "source": [
    "class Decoder(nn.Module):\n",
    "  def __init__(self, output_dim, emb_dim, hid_dim, n_layers, dropout_p):\n",
    "    super().__init__()\n",
    "\n",
    "    self.output_dim = output_dim\n",
    "\n",
    "    self.embedding = nn.Embedding(output_dim, emb_dim)\n",
    "    self.rnn = nn.LSTM(emb_dim, hid_dim, n_layers, dropout=dropout_p)\n",
    "    self.fc_out = nn.Linear(hid_dim, output_dim)\n",
    "    self.dropout = nn.Dropout(dropout_p)\n",
    "\n",
    "  def forward(self, input, hidden, cell):\n",
    "    # input shp: batch_size\n",
    "    # hidden shp: n_layers x batch_size x hid_dim\n",
    "    # cell shp: n_layers x batch_size x hid_dim\n",
    "    \n",
    "    input = input.unsqueeze(0) # shp: 1 x batch_size\n",
    "    embedded = self.dropout(self.embedding(input)) # shp: 1 x batch_size x emb_dim\n",
    "\n",
    "    output, (hidden, cell) = self.rnn(embedded, (hidden, cell))\n",
    "\n",
    "    # output shp: 1 x batch_size x hid_dim\n",
    "    # hidden shp: n_layers x batch_size x hid_dim\n",
    "    # cell shp: n_layers x batch_size x hid_dim\n",
    "\n",
    "    prediction = self.fc_out(output.squeeze(0))\n",
    "\n",
    "    # prediction shp: batch_sz x output_dim\n",
    "\n",
    "    return prediction, hidden, cell"
   ]
  },
  {
   "cell_type": "markdown",
   "metadata": {
    "colab_type": "text",
    "id": "3eoVPU8_cz9a"
   },
   "source": [
    "### Seq2Seq\n",
    "\n",
    "For the final part of the implemenetation, we'll implement the seq2seq model. This will handle:\n",
    "\n",
    "- receiving the input/source sentence\n",
    "- using the encoder to produce the context vectors\n",
    "- using the decoder to produce the predicted output/target sentence\n",
    "\n",
    "The first thing we do in the forward method is to create an outputs tensor that will store all of our predictions, $\\hat{Y}$.\n",
    "\n",
    "We then feed the input/source sentence, src, into the encoder and receive out final hidden and cell states. We know how long our target sentences should be (max_len), so we loop that many times. The last token input into the decoder is the one before the <eos> token - the <eos> token is never input into the decoder.\n",
    "\n",
    "During each iteration of the loop, we:\n",
    "\n",
    "- pass the input, previous hidden and previous cell states ($y_t, s_{t-1}, c_{t-1}$) into the decoder\n",
    "- receive a prediction, next hidden state and next cell state ($\\hat{y}_{t+1}, s_{t}, c_{t}$) from the decoder\n",
    "- place our prediction, $\\hat{y}_{t+1}$/output in our tensor of predictions, $\\hat{Y}$/outputs\n",
    "- decide if we are going to \"teacher force\" or not\n",
    "  - if we do, the next input is the ground-truth next token in the sequence, $y_{t+1}$/trg[t]\n",
    "  - if we don't, the next input is the predicted next token in the sequence, $\\hat{y}_{t+1}$/top1, which we get by doing an argmax over the output tensor\n",
    "\n",
    "Once we've made all of our predictions, we return our tensor full of predictions."
   ]
  },
  {
   "cell_type": "code",
   "execution_count": 8,
   "metadata": {
    "colab": {},
    "colab_type": "code",
    "executionInfo": {
     "elapsed": 8074,
     "status": "ok",
     "timestamp": 1592439971411,
     "user": {
      "displayName": "Ammar Husain",
      "photoUrl": "https://lh3.googleusercontent.com/a-/AOh14GhK_5ZuOt0ZUtSnd8Qf5pN727P_0i1wLPU6ixPb=s64",
      "userId": "10057289260862428677"
     },
     "user_tz": 420
    },
    "id": "bEvKsSGifYBj"
   },
   "outputs": [],
   "source": [
    "class Seq2Seq(nn.Module):\n",
    "  def __init__(self, encoder, decoder, device):\n",
    "    super().__init__()\n",
    "\n",
    "    self.encoder = encoder\n",
    "    self.decoder = decoder\n",
    "    self.device = device\n",
    "\n",
    "  def forward(self, src, trg, teacher_forcing_ratio=0.5):\n",
    "    # src shp: [src_len, batch_sz]\n",
    "    # trg shp: [trg_len, batch_sz]\n",
    "\n",
    "    batch_sz = trg.shape[1]\n",
    "    trg_len = trg.shape[0]\n",
    "    trg_vocab_sz = self.decoder.output_dim\n",
    "\n",
    "    # tensor to store decoder outputs\n",
    "    outputs = torch.zeros(trg_len, batch_sz, trg_vocab_sz).to(self.device)\n",
    "\n",
    "    # last hidden state of the encoder is used as the initial hidden state of decoder\n",
    "    hidden, cell = self.encoder(src)\n",
    "    # first input to decoder is the <sos> token\n",
    "    input = trg[0,:]\n",
    "\n",
    "    for t in range(1, trg_len):\n",
    "      # insert token embedding, previous hidden and previous cell states\n",
    "      # receive output tensor (predictions) and new hidden & cell states\n",
    "      output, hidden, cell = self.decoder(input, hidden, cell)\n",
    "\n",
    "      # place predictions in a tensor \n",
    "      outputs[t] = output\n",
    "\n",
    "      # decide if we are using teacher forcing or not\n",
    "      teacher_force = random.random() < teacher_forcing_ratio\n",
    "\n",
    "      # get highest predicted token from our predictions\n",
    "      top1 = output.argmax(1)\n",
    "\n",
    "      input = trg[t] if teacher_force else top1\n",
    "\n",
    "    return outputs     \n"
   ]
  },
  {
   "cell_type": "markdown",
   "metadata": {
    "colab_type": "text",
    "id": "tlj4q0oCn-cx"
   },
   "source": [
    "## Training the Seq2Seq Model\n",
    "The input and output dimensions are defined by the size of the vocabulary.\n"
   ]
  },
  {
   "cell_type": "code",
   "execution_count": 9,
   "metadata": {
    "colab": {},
    "colab_type": "code",
    "executionInfo": {
     "elapsed": 8071,
     "status": "ok",
     "timestamp": 1592439971416,
     "user": {
      "displayName": "Ammar Husain",
      "photoUrl": "https://lh3.googleusercontent.com/a-/AOh14GhK_5ZuOt0ZUtSnd8Qf5pN727P_0i1wLPU6ixPb=s64",
      "userId": "10057289260862428677"
     },
     "user_tz": 420
    },
    "id": "QWel8xFYoLQx"
   },
   "outputs": [],
   "source": [
    "INPUT_DIM = len(SRC.vocab)\n",
    "OUTPUT_DIM = len(TRG.vocab)\n",
    "ENC_EMB_DIM = 256\n",
    "DEC_EMB_DIM = 256\n",
    "HID_DIM = 512\n",
    "N_LAYERS = 2\n",
    "DROPOUT_P = 0.5\n",
    "\n",
    "enc = Encoder(INPUT_DIM, ENC_EMB_DIM, HID_DIM, N_LAYERS, DROPOUT_P)\n",
    "dec = Decoder(OUTPUT_DIM, DEC_EMB_DIM, HID_DIM, N_LAYERS, DROPOUT_P)\n",
    "model = Seq2Seq(enc, dec, device).to(device)"
   ]
  },
  {
   "cell_type": "markdown",
   "metadata": {
    "colab_type": "text",
    "id": "yZCc0HQQphR9"
   },
   "source": [
    "In the paper they state they initialize all weights from a uniform distribution between -0.08 and +0.08, i.e. $\\mathcal{U}(-0.08, 0.08)$.\n",
    "\n",
    "We initialize weights in PyTorch by creating a function which we apply to our model. When using apply, the init_weights function will be called on every module and sub-module within our model. For each module we loop through all of the parameters and sample them from a uniform distribution with nn.init.uniform_."
   ]
  },
  {
   "cell_type": "code",
   "execution_count": 10,
   "metadata": {
    "colab": {
     "base_uri": "https://localhost:8080/",
     "height": 34
    },
    "colab_type": "code",
    "executionInfo": {
     "elapsed": 8441,
     "status": "ok",
     "timestamp": 1592439971794,
     "user": {
      "displayName": "Ammar Husain",
      "photoUrl": "https://lh3.googleusercontent.com/a-/AOh14GhK_5ZuOt0ZUtSnd8Qf5pN727P_0i1wLPU6ixPb=s64",
      "userId": "10057289260862428677"
     },
     "user_tz": 420
    },
    "id": "wG-UCGXLprPH",
    "outputId": "9589453d-2388-478c-e50c-32c27f2e9597"
   },
   "outputs": [
    {
     "name": "stdout",
     "output_type": "stream",
     "text": [
      "Model had 13,898,757 trainable parameters.\n"
     ]
    }
   ],
   "source": [
    "def init_weights(m):\n",
    "  for name, param in m.named_parameters():\n",
    "    nn.init.uniform_(param.data, -0.08, 0.08)\n",
    "\n",
    "model.apply(init_weights)\n",
    "\n",
    "# define a function that will calculate the number of trainable parameters in the model.\n",
    "def count_parameters(model):\n",
    "  return sum(p.numel() for p in model.parameters() if p.requires_grad)\n",
    "\n",
    "print(f\"Model had {count_parameters(model):,} trainable parameters.\")\n",
    "\n",
    "optimizer = optim.Adam(model.parameters())\n",
    "\n",
    "# The CrossEntropyLoss function calculates both the log softmax as well \n",
    "# as the negative log-likelihood of our predictions.\n",
    "# Our loss function calculates the average loss per token, however by passing\n",
    "# the index of the <pad> token as the ignore_index argument we ignore the loss \n",
    "# whenever the target token is a padding token.\n",
    "TRG_PAD_IDX = TRG.vocab.stoi[TRG.pad_token]\n",
    "criterion = nn.CrossEntropyLoss(ignore_index = TRG_PAD_IDX)"
   ]
  },
  {
   "cell_type": "markdown",
   "metadata": {
    "colab_type": "text",
    "id": "9DaD3JBGtQJE"
   },
   "source": [
    "At each each iteration:\n",
    "- get the source & target sentence from the batch\n",
    "- zero the gradients calculated from the last batch\n",
    "- feed the source & target into the model to get output\n",
    "- loss function only works on 2d inputs [batch_sz,num_classes] with 1d targets [batch_sz]. We need to flatten each of them with a .view. We slice off the first column since those are just <sos> (trg) or 0 (output) token anyway.\n",
    "- calculate gradients with `loss.backward()`\n",
    "- clip the gradients to prevent them from exploding.\n",
    "- update the parameters of our model by doing an optimizer step\n",
    "- sum the loss value to a running total\n",
    "\n",
    "\n"
   ]
  },
  {
   "cell_type": "code",
   "execution_count": 11,
   "metadata": {
    "colab": {},
    "colab_type": "code",
    "executionInfo": {
     "elapsed": 8434,
     "status": "ok",
     "timestamp": 1592439971797,
     "user": {
      "displayName": "Ammar Husain",
      "photoUrl": "https://lh3.googleusercontent.com/a-/AOh14GhK_5ZuOt0ZUtSnd8Qf5pN727P_0i1wLPU6ixPb=s64",
      "userId": "10057289260862428677"
     },
     "user_tz": 420
    },
    "id": "7ioST2DqrfdC"
   },
   "outputs": [],
   "source": [
    "def train(model, iterator, optimizer, criterion, clip):\n",
    "\n",
    "  model.train()\n",
    "  epoch_loss = 0\n",
    "  for i, batch in enumerate(iterator):\n",
    "    src = batch.src\n",
    "    trg = batch.trg # shp: [trg_len, batch_sz]\n",
    "\n",
    "    optimizer.zero_grad()\n",
    "\n",
    "    output = model(src, trg) # shp: [trg_len, batch_sz, output_dim]\n",
    "\n",
    "    output_dim = output.shape[-1]\n",
    "\n",
    "    output = output[1:].view(-1, output_dim) # shp: [(trg_len-1)*batch_sz, output_dim]\n",
    "    trg = trg[1:].view(-1) # shp: [(trg_len-1)*batch_sz]\n",
    "\n",
    "    loss = criterion(output, trg)\n",
    "\n",
    "    loss.backward()\n",
    "\n",
    "    torch.nn.utils.clip_grad_norm_(model.parameters(), clip)\n",
    "\n",
    "    optimizer.step()\n",
    "\n",
    "    epoch_loss += loss.item()\n",
    "\n",
    "  return epoch_loss / len(iterator)"
   ]
  },
  {
   "cell_type": "markdown",
   "metadata": {
    "colab_type": "text",
    "id": "YgEuZBKyzVhX"
   },
   "source": [
    "Our evaluation loop is similar to out training loop, however, as we aren't updating any parameters we don't need to pass an optimizer or a clip value.\n",
    "\n",
    "We must remember to set the model to `eval()` mode. This will turn off dropout (and batch norm if used).\n",
    "\n",
    "We use the `with torch.no_grad()` block to ensure no gradients are calculated within the block. This reduces memory consumption and speeds things up.\n",
    "\n",
    "The iteration loop is similar, without the parameter updates and with teacher forcing turned off."
   ]
  },
  {
   "cell_type": "code",
   "execution_count": 12,
   "metadata": {
    "colab": {},
    "colab_type": "code",
    "executionInfo": {
     "elapsed": 8430,
     "status": "ok",
     "timestamp": 1592439971801,
     "user": {
      "displayName": "Ammar Husain",
      "photoUrl": "https://lh3.googleusercontent.com/a-/AOh14GhK_5ZuOt0ZUtSnd8Qf5pN727P_0i1wLPU6ixPb=s64",
      "userId": "10057289260862428677"
     },
     "user_tz": 420
    },
    "id": "Jfi87Hto0Pbm"
   },
   "outputs": [],
   "source": [
    "def evaluate(model, iterator, criterion):\n",
    "  model.eval()\n",
    "  epoch_loss = 0\n",
    "\n",
    "  with torch.no_grad():\n",
    "    for i, batch in enumerate(iterator):\n",
    "      src = batch.src\n",
    "      trg = batch.trg # shp: [trg_len, batch_sz]\n",
    "\n",
    "      output = model(src, trg, teacher_forcing_ratio=0.0)  # shp: [trg_len, batch_sz, output_dim]\n",
    "\n",
    "      output_dim = output.shape[-1]\n",
    "\n",
    "      output = output[1:].view(-1, output_dim)\n",
    "      trg = trg[1:].view(-1)\n",
    "\n",
    "      loss = criterion(output, trg)\n",
    "\n",
    "      epoch_loss += loss.item()\n",
    "\n",
    "    return epoch_loss / len(iterator)\n",
    "\n",
    "# function to tell us how long an epoch takes.\n",
    "def epoch_time(start_time, end_time):\n",
    "  elapsed_time = end_time - start_time\n",
    "  elapsed_mins = int(elapsed_time / 60)\n",
    "  elapsed_secs = int(elapsed_time - (elapsed_mins * 60))\n",
    "  return elapsed_mins, elapsed_secs   "
   ]
  },
  {
   "cell_type": "markdown",
   "metadata": {
    "colab_type": "text",
    "id": "PpJ-jbzr2ynr"
   },
   "source": [
    "At each epoch, we'll be checking if our model has achieved the best validation loss so far. If it has, we'll update our best validation loss and save the parameters of our model (called state_dict in PyTorch). Then, when we come to test our model, we'll use the saved parameters used to achieve the best validation loss."
   ]
  },
  {
   "cell_type": "code",
   "execution_count": 14,
   "metadata": {
    "colab": {
     "base_uri": "https://localhost:8080/",
     "height": 527
    },
    "colab_type": "code",
    "executionInfo": {
     "elapsed": 1038928,
     "status": "ok",
     "timestamp": 1592454290489,
     "user": {
      "displayName": "Ammar Husain",
      "photoUrl": "https://lh3.googleusercontent.com/a-/AOh14GhK_5ZuOt0ZUtSnd8Qf5pN727P_0i1wLPU6ixPb=s64",
      "userId": "10057289260862428677"
     },
     "user_tz": 420
    },
    "id": "z-3GKYvf2zfp",
    "outputId": "2d1d8d93-2c8d-4c26-fa71-704a67a2a81d"
   },
   "outputs": [
    {
     "name": "stdout",
     "output_type": "stream",
     "text": [
      "Epoch: 01 | Time: 0m 36s\n",
      "\tTrain Loss: 3.472 | Train PPL:  32.196\n",
      "\t Val. Loss: 4.085 |  Val. PPL:  59.428\n",
      "Epoch: 02 | Time: 0m 35s\n",
      "\tTrain Loss: 3.364 | Train PPL:  28.917\n",
      "\t Val. Loss: 4.064 |  Val. PPL:  58.191\n",
      "Epoch: 03 | Time: 0m 36s\n",
      "\tTrain Loss: 3.246 | Train PPL:  25.692\n",
      "\t Val. Loss: 3.980 |  Val. PPL:  53.495\n",
      "Epoch: 04 | Time: 0m 36s\n",
      "\tTrain Loss: 3.105 | Train PPL:  22.319\n",
      "\t Val. Loss: 3.877 |  Val. PPL:  48.278\n",
      "Epoch: 05 | Time: 0m 34s\n",
      "\tTrain Loss: 2.999 | Train PPL:  20.073\n",
      "\t Val. Loss: 3.802 |  Val. PPL:  44.789\n",
      "Epoch: 06 | Time: 0m 35s\n",
      "\tTrain Loss: 2.896 | Train PPL:  18.106\n",
      "\t Val. Loss: 3.801 |  Val. PPL:  44.768\n",
      "Epoch: 07 | Time: 0m 36s\n",
      "\tTrain Loss: 2.795 | Train PPL:  16.362\n",
      "\t Val. Loss: 3.739 |  Val. PPL:  42.054\n",
      "Epoch: 08 | Time: 0m 36s\n",
      "\tTrain Loss: 2.726 | Train PPL:  15.274\n",
      "\t Val. Loss: 3.765 |  Val. PPL:  43.148\n",
      "Epoch: 09 | Time: 0m 36s\n",
      "\tTrain Loss: 2.632 | Train PPL:  13.896\n",
      "\t Val. Loss: 3.625 |  Val. PPL:  37.516\n",
      "Epoch: 10 | Time: 0m 36s\n",
      "\tTrain Loss: 2.562 | Train PPL:  12.961\n",
      "\t Val. Loss: 3.649 |  Val. PPL:  38.448\n"
     ]
    }
   ],
   "source": [
    "N_EPOCHS = 10\n",
    "CLIP = 1\n",
    "\n",
    "best_valid_loss = float('inf')\n",
    "\n",
    "for epoch in range(N_EPOCHS):\n",
    "  start_time = time.time()\n",
    "\n",
    "  train_loss = train(model, train_iterator, optimizer, criterion, CLIP)\n",
    "  valid_loss = evaluate(model, valid_iterator, criterion)\n",
    "\n",
    "  end_time = time.time()\n",
    "\n",
    "  epoch_mins, epoch_secs = epoch_time(start_time, end_time)\n",
    "\n",
    "  if valid_loss < best_valid_loss:\n",
    "    best_valid_loss = best_valid_loss\n",
    "    torch.save(model.state_dict(), sandbox_path + 'tut1-model.pt')\n",
    "\n",
    "  print(f\"Epoch: {epoch+1:02} | Time: {epoch_mins}m {epoch_secs}s\") \n",
    "  print(f\"\\tTrain Loss: {train_loss:.3f} | Train PPL: {math.exp(train_loss):7.3f}\")\n",
    "  print(f\"\\t Val. Loss: {valid_loss:.3f} |  Val. PPL: {math.exp(valid_loss):7.3f}\")\n",
    "  "
   ]
  },
  {
   "cell_type": "code",
   "execution_count": 15,
   "metadata": {
    "colab": {
     "base_uri": "https://localhost:8080/",
     "height": 34
    },
    "colab_type": "code",
    "executionInfo": {
     "elapsed": 8533,
     "status": "ok",
     "timestamp": 1592456316041,
     "user": {
      "displayName": "Ammar Husain",
      "photoUrl": "https://lh3.googleusercontent.com/a-/AOh14GhK_5ZuOt0ZUtSnd8Qf5pN727P_0i1wLPU6ixPb=s64",
      "userId": "10057289260862428677"
     },
     "user_tz": 420
    },
    "id": "NpqGLi_CKTZ7",
    "outputId": "35242e0c-f1ec-4872-a5dc-1890f3bee9a6"
   },
   "outputs": [
    {
     "name": "stdout",
     "output_type": "stream",
     "text": [
      "| Test Loss: 3.585 | Test PPL:  36.047 |\n"
     ]
    }
   ],
   "source": [
    "# Load the best model with best validation and run the test set\n",
    "model.load_state_dict(torch.load(sandbox_path + 'tut1-model.pt'))\n",
    "\n",
    "test_loss = evaluate(model, test_iterator, criterion)\n",
    "print(f'| Test Loss: {test_loss:.3f} | Test PPL: {math.exp(test_loss):7.3f} |')"
   ]
  }
 ],
 "metadata": {
  "colab": {
   "authorship_tag": "ABX9TyM0pre9hn6uoM95fUDoVZNZ",
   "collapsed_sections": [],
   "name": "NLP-bentrevett-1.ipynb",
   "provenance": []
  },
  "kernelspec": {
   "display_name": "Python 3",
   "language": "python",
   "name": "python3"
  },
  "language_info": {
   "codemirror_mode": {
    "name": "ipython",
    "version": 3
   },
   "file_extension": ".py",
   "mimetype": "text/x-python",
   "name": "python",
   "nbconvert_exporter": "python",
   "pygments_lexer": "ipython3",
   "version": "3.7.7"
  }
 },
 "nbformat": 4,
 "nbformat_minor": 4
}
